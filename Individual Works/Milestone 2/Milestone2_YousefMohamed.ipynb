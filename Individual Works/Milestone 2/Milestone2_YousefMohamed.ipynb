{
  "nbformat": 4,
  "nbformat_minor": 0,
  "metadata": {
    "colab": {
      "provenance": []
    },
    "kernelspec": {
      "name": "python3",
      "display_name": "Python 3"
    },
    "language_info": {
      "name": "python"
    }
  },
  "cells": [
    {
      "cell_type": "markdown",
      "source": [
        "# **Milestone 2: Data Analysis and Visualization**"
      ],
      "metadata": {
        "id": "NQdt2GA9qxCW"
      }
    },
    {
      "cell_type": "code",
      "source": [
        "import pandas as pd\n",
        "import numpy as np\n",
        "import matplotlib.pyplot as plt\n",
        "import seaborn as sns"
      ],
      "metadata": {
        "id": "NdaZIJEwrEeF"
      },
      "execution_count": 57,
      "outputs": []
    },
    {
      "cell_type": "code",
      "source": [
        "data = pd.read_csv('/content/cleaned_data_telecomchurn.csv')"
      ],
      "metadata": {
        "id": "P6EbBtt3rU3O"
      },
      "execution_count": 58,
      "outputs": []
    },
    {
      "cell_type": "code",
      "source": [
        "# Dataset Overview\n",
        "data.head(20)"
      ],
      "metadata": {
        "colab": {
          "base_uri": "https://localhost:8080/",
          "height": 1000
        },
        "id": "T3TtxKLQrkHK",
        "outputId": "6cd6a74f-57d4-47f9-96ab-335724cd41ff"
      },
      "execution_count": 59,
      "outputs": [
        {
          "output_type": "execute_result",
          "data": {
            "text/plain": [
              "    Unnamed: 0.1  Unnamed: 0 telecom_partner gender  age  age_decay_range  \\\n",
              "0              0           0    Reliance Jio      F   25               20   \n",
              "1              1           1    Reliance Jio      F   55               50   \n",
              "2              2           2        Vodafone      F   57               50   \n",
              "3              3           3            BSNL      M   46               40   \n",
              "4              4           4            BSNL      F   26               20   \n",
              "5              5           5        Vodafone      M   36               30   \n",
              "6              6           6            BSNL      F   60               60   \n",
              "7              7           7            BSNL      M   46               40   \n",
              "8              8           8    Reliance Jio      F   53               50   \n",
              "9              9           9            BSNL      F   57               50   \n",
              "10            10          10          Airtel      M   44               40   \n",
              "11            11          11          Airtel      M   56               50   \n",
              "12            12          12        Vodafone      F   64               60   \n",
              "13            13          13        Vodafone      F   70               70   \n",
              "14            14          14        Vodafone      F   38               30   \n",
              "15            15          15            BSNL      M   22               20   \n",
              "16            16          16        Vodafone      M   61               60   \n",
              "17            17          17    Reliance Jio      M   59               50   \n",
              "18            18          18          Airtel      F   47               40   \n",
              "19            19          19        Vodafone      M   26               20   \n",
              "\n",
              "           age_interval              state       city           region  ...  \\\n",
              "0          Young Adults          Karnataka    Kolkata      South India  ...   \n",
              "1            Old Adults            Mizoram     Mumbai  Northeast India  ...   \n",
              "2            Old Adults  Arunachal Pradesh      Delhi  Northeast India  ...   \n",
              "3            Old Adults         Tamil Nadu    Kolkata      South India  ...   \n",
              "4          Young Adults            Tripura      Delhi  Northeast India  ...   \n",
              "5   Middle-agged Adults        Uttarakhand    Chennai      North India  ...   \n",
              "6            Old Adults          Karnataka      Delhi      South India  ...   \n",
              "7            Old Adults  Arunachal Pradesh    Kolkata  Northeast India  ...   \n",
              "8            Old Adults   Himachal Pradesh     Mumbai      North India  ...   \n",
              "9            Old Adults          Rajasthan     Mumbai      North India  ...   \n",
              "10  Middle-agged Adults        Uttarakhand    Chennai      North India  ...   \n",
              "11           Old Adults             Odisha     Mumbai       East India  ...   \n",
              "12           Old Adults      Uttar Pradesh  Hyderabad      North India  ...   \n",
              "13           Old Adults       Chhattisgarh    Kolkata    Central India  ...   \n",
              "14  Middle-agged Adults      Uttar Pradesh      Delhi      North India  ...   \n",
              "15         Young Adults         Tamil Nadu     Mumbai      South India  ...   \n",
              "16           Old Adults   Himachal Pradesh  Hyderabad      North India  ...   \n",
              "17           Old Adults     Madhya Pradesh  Hyderabad    Central India  ...   \n",
              "18           Old Adults            Manipur      Delhi  Northeast India  ...   \n",
              "19         Young Adults      Uttar Pradesh  Hyderabad      North India  ...   \n",
              "\n",
              "    num_dependents  single or not  estimated_salary  calls_made  \\\n",
              "0                4     Not single            124962          44   \n",
              "1                2     Not single            130556          62   \n",
              "2                0         Single            148828          49   \n",
              "3                1     Not single             38722          80   \n",
              "4                2     Not single             55098          78   \n",
              "5                1     Not single             73452          91   \n",
              "6                1     Not single            110035          36   \n",
              "7                4     Not single            104541          87   \n",
              "8                2     Not single             79439          34   \n",
              "9                0         Single            126422          61   \n",
              "10               0         Single            133288           7   \n",
              "11               4     Not single            135129          39   \n",
              "12               4     Not single            136967          40   \n",
              "13               0         Single            140219          50   \n",
              "14               1     Not single            147805          86   \n",
              "15               3     Not single            100340          88   \n",
              "16               2     Not single             59723          16   \n",
              "17               1     Not single            101694          80   \n",
              "18               1     Not single            138037          60   \n",
              "19               1     Not single            109753          95   \n",
              "\n",
              "   calls_made_negative  sms_sent  sms_sent_negative  data_used  \\\n",
              "0                    0        45                  0        361   \n",
              "1                    0        39                  0       5973   \n",
              "2                    0        24                  0        193   \n",
              "3                    0        25                  0       9377   \n",
              "4                    0        15                  0       1393   \n",
              "5                    0        24                  0       8109   \n",
              "6                    0        13                  0       8512   \n",
              "7                    0        40                  0       2245   \n",
              "8                    0        12                  0      10039   \n",
              "9                    0        33                  0        567   \n",
              "10                   0         7                  0       1275   \n",
              "11                   0        51                  0       7644   \n",
              "12                   0         4                  0       1911   \n",
              "13                   0        17                  0       7727   \n",
              "14                   0        20                  0       8058   \n",
              "15                   0        40                  0       6303   \n",
              "16                   0        42                  0       8157   \n",
              "17                   0        20                  0       2605   \n",
              "18                   0        28                  0       1432   \n",
              "19                   0         1                  1       9993   \n",
              "\n",
              "    data_used_negative  churn  \n",
              "0                    1      0  \n",
              "1                    0      0  \n",
              "2                    0      1  \n",
              "3                    0      1  \n",
              "4                    0      0  \n",
              "5                    0      0  \n",
              "6                    0      0  \n",
              "7                    0      1  \n",
              "8                    0      0  \n",
              "9                    0      0  \n",
              "10                   0      1  \n",
              "11                   0      0  \n",
              "12                   0      0  \n",
              "13                   0      0  \n",
              "14                   0      0  \n",
              "15                   0      0  \n",
              "16                   0      1  \n",
              "17                   0      0  \n",
              "18                   0      0  \n",
              "19                   0      0  \n",
              "\n",
              "[20 rows x 23 columns]"
            ],
            "text/html": [
              "\n",
              "  <div id=\"df-d76944b0-7a4a-4a5f-b63a-1981206aa644\" class=\"colab-df-container\">\n",
              "    <div>\n",
              "<style scoped>\n",
              "    .dataframe tbody tr th:only-of-type {\n",
              "        vertical-align: middle;\n",
              "    }\n",
              "\n",
              "    .dataframe tbody tr th {\n",
              "        vertical-align: top;\n",
              "    }\n",
              "\n",
              "    .dataframe thead th {\n",
              "        text-align: right;\n",
              "    }\n",
              "</style>\n",
              "<table border=\"1\" class=\"dataframe\">\n",
              "  <thead>\n",
              "    <tr style=\"text-align: right;\">\n",
              "      <th></th>\n",
              "      <th>Unnamed: 0.1</th>\n",
              "      <th>Unnamed: 0</th>\n",
              "      <th>telecom_partner</th>\n",
              "      <th>gender</th>\n",
              "      <th>age</th>\n",
              "      <th>age_decay_range</th>\n",
              "      <th>age_interval</th>\n",
              "      <th>state</th>\n",
              "      <th>city</th>\n",
              "      <th>region</th>\n",
              "      <th>...</th>\n",
              "      <th>num_dependents</th>\n",
              "      <th>single or not</th>\n",
              "      <th>estimated_salary</th>\n",
              "      <th>calls_made</th>\n",
              "      <th>calls_made_negative</th>\n",
              "      <th>sms_sent</th>\n",
              "      <th>sms_sent_negative</th>\n",
              "      <th>data_used</th>\n",
              "      <th>data_used_negative</th>\n",
              "      <th>churn</th>\n",
              "    </tr>\n",
              "  </thead>\n",
              "  <tbody>\n",
              "    <tr>\n",
              "      <th>0</th>\n",
              "      <td>0</td>\n",
              "      <td>0</td>\n",
              "      <td>Reliance Jio</td>\n",
              "      <td>F</td>\n",
              "      <td>25</td>\n",
              "      <td>20</td>\n",
              "      <td>Young Adults</td>\n",
              "      <td>Karnataka</td>\n",
              "      <td>Kolkata</td>\n",
              "      <td>South India</td>\n",
              "      <td>...</td>\n",
              "      <td>4</td>\n",
              "      <td>Not single</td>\n",
              "      <td>124962</td>\n",
              "      <td>44</td>\n",
              "      <td>0</td>\n",
              "      <td>45</td>\n",
              "      <td>0</td>\n",
              "      <td>361</td>\n",
              "      <td>1</td>\n",
              "      <td>0</td>\n",
              "    </tr>\n",
              "    <tr>\n",
              "      <th>1</th>\n",
              "      <td>1</td>\n",
              "      <td>1</td>\n",
              "      <td>Reliance Jio</td>\n",
              "      <td>F</td>\n",
              "      <td>55</td>\n",
              "      <td>50</td>\n",
              "      <td>Old Adults</td>\n",
              "      <td>Mizoram</td>\n",
              "      <td>Mumbai</td>\n",
              "      <td>Northeast India</td>\n",
              "      <td>...</td>\n",
              "      <td>2</td>\n",
              "      <td>Not single</td>\n",
              "      <td>130556</td>\n",
              "      <td>62</td>\n",
              "      <td>0</td>\n",
              "      <td>39</td>\n",
              "      <td>0</td>\n",
              "      <td>5973</td>\n",
              "      <td>0</td>\n",
              "      <td>0</td>\n",
              "    </tr>\n",
              "    <tr>\n",
              "      <th>2</th>\n",
              "      <td>2</td>\n",
              "      <td>2</td>\n",
              "      <td>Vodafone</td>\n",
              "      <td>F</td>\n",
              "      <td>57</td>\n",
              "      <td>50</td>\n",
              "      <td>Old Adults</td>\n",
              "      <td>Arunachal Pradesh</td>\n",
              "      <td>Delhi</td>\n",
              "      <td>Northeast India</td>\n",
              "      <td>...</td>\n",
              "      <td>0</td>\n",
              "      <td>Single</td>\n",
              "      <td>148828</td>\n",
              "      <td>49</td>\n",
              "      <td>0</td>\n",
              "      <td>24</td>\n",
              "      <td>0</td>\n",
              "      <td>193</td>\n",
              "      <td>0</td>\n",
              "      <td>1</td>\n",
              "    </tr>\n",
              "    <tr>\n",
              "      <th>3</th>\n",
              "      <td>3</td>\n",
              "      <td>3</td>\n",
              "      <td>BSNL</td>\n",
              "      <td>M</td>\n",
              "      <td>46</td>\n",
              "      <td>40</td>\n",
              "      <td>Old Adults</td>\n",
              "      <td>Tamil Nadu</td>\n",
              "      <td>Kolkata</td>\n",
              "      <td>South India</td>\n",
              "      <td>...</td>\n",
              "      <td>1</td>\n",
              "      <td>Not single</td>\n",
              "      <td>38722</td>\n",
              "      <td>80</td>\n",
              "      <td>0</td>\n",
              "      <td>25</td>\n",
              "      <td>0</td>\n",
              "      <td>9377</td>\n",
              "      <td>0</td>\n",
              "      <td>1</td>\n",
              "    </tr>\n",
              "    <tr>\n",
              "      <th>4</th>\n",
              "      <td>4</td>\n",
              "      <td>4</td>\n",
              "      <td>BSNL</td>\n",
              "      <td>F</td>\n",
              "      <td>26</td>\n",
              "      <td>20</td>\n",
              "      <td>Young Adults</td>\n",
              "      <td>Tripura</td>\n",
              "      <td>Delhi</td>\n",
              "      <td>Northeast India</td>\n",
              "      <td>...</td>\n",
              "      <td>2</td>\n",
              "      <td>Not single</td>\n",
              "      <td>55098</td>\n",
              "      <td>78</td>\n",
              "      <td>0</td>\n",
              "      <td>15</td>\n",
              "      <td>0</td>\n",
              "      <td>1393</td>\n",
              "      <td>0</td>\n",
              "      <td>0</td>\n",
              "    </tr>\n",
              "    <tr>\n",
              "      <th>5</th>\n",
              "      <td>5</td>\n",
              "      <td>5</td>\n",
              "      <td>Vodafone</td>\n",
              "      <td>M</td>\n",
              "      <td>36</td>\n",
              "      <td>30</td>\n",
              "      <td>Middle-agged Adults</td>\n",
              "      <td>Uttarakhand</td>\n",
              "      <td>Chennai</td>\n",
              "      <td>North India</td>\n",
              "      <td>...</td>\n",
              "      <td>1</td>\n",
              "      <td>Not single</td>\n",
              "      <td>73452</td>\n",
              "      <td>91</td>\n",
              "      <td>0</td>\n",
              "      <td>24</td>\n",
              "      <td>0</td>\n",
              "      <td>8109</td>\n",
              "      <td>0</td>\n",
              "      <td>0</td>\n",
              "    </tr>\n",
              "    <tr>\n",
              "      <th>6</th>\n",
              "      <td>6</td>\n",
              "      <td>6</td>\n",
              "      <td>BSNL</td>\n",
              "      <td>F</td>\n",
              "      <td>60</td>\n",
              "      <td>60</td>\n",
              "      <td>Old Adults</td>\n",
              "      <td>Karnataka</td>\n",
              "      <td>Delhi</td>\n",
              "      <td>South India</td>\n",
              "      <td>...</td>\n",
              "      <td>1</td>\n",
              "      <td>Not single</td>\n",
              "      <td>110035</td>\n",
              "      <td>36</td>\n",
              "      <td>0</td>\n",
              "      <td>13</td>\n",
              "      <td>0</td>\n",
              "      <td>8512</td>\n",
              "      <td>0</td>\n",
              "      <td>0</td>\n",
              "    </tr>\n",
              "    <tr>\n",
              "      <th>7</th>\n",
              "      <td>7</td>\n",
              "      <td>7</td>\n",
              "      <td>BSNL</td>\n",
              "      <td>M</td>\n",
              "      <td>46</td>\n",
              "      <td>40</td>\n",
              "      <td>Old Adults</td>\n",
              "      <td>Arunachal Pradesh</td>\n",
              "      <td>Kolkata</td>\n",
              "      <td>Northeast India</td>\n",
              "      <td>...</td>\n",
              "      <td>4</td>\n",
              "      <td>Not single</td>\n",
              "      <td>104541</td>\n",
              "      <td>87</td>\n",
              "      <td>0</td>\n",
              "      <td>40</td>\n",
              "      <td>0</td>\n",
              "      <td>2245</td>\n",
              "      <td>0</td>\n",
              "      <td>1</td>\n",
              "    </tr>\n",
              "    <tr>\n",
              "      <th>8</th>\n",
              "      <td>8</td>\n",
              "      <td>8</td>\n",
              "      <td>Reliance Jio</td>\n",
              "      <td>F</td>\n",
              "      <td>53</td>\n",
              "      <td>50</td>\n",
              "      <td>Old Adults</td>\n",
              "      <td>Himachal Pradesh</td>\n",
              "      <td>Mumbai</td>\n",
              "      <td>North India</td>\n",
              "      <td>...</td>\n",
              "      <td>2</td>\n",
              "      <td>Not single</td>\n",
              "      <td>79439</td>\n",
              "      <td>34</td>\n",
              "      <td>0</td>\n",
              "      <td>12</td>\n",
              "      <td>0</td>\n",
              "      <td>10039</td>\n",
              "      <td>0</td>\n",
              "      <td>0</td>\n",
              "    </tr>\n",
              "    <tr>\n",
              "      <th>9</th>\n",
              "      <td>9</td>\n",
              "      <td>9</td>\n",
              "      <td>BSNL</td>\n",
              "      <td>F</td>\n",
              "      <td>57</td>\n",
              "      <td>50</td>\n",
              "      <td>Old Adults</td>\n",
              "      <td>Rajasthan</td>\n",
              "      <td>Mumbai</td>\n",
              "      <td>North India</td>\n",
              "      <td>...</td>\n",
              "      <td>0</td>\n",
              "      <td>Single</td>\n",
              "      <td>126422</td>\n",
              "      <td>61</td>\n",
              "      <td>0</td>\n",
              "      <td>33</td>\n",
              "      <td>0</td>\n",
              "      <td>567</td>\n",
              "      <td>0</td>\n",
              "      <td>0</td>\n",
              "    </tr>\n",
              "    <tr>\n",
              "      <th>10</th>\n",
              "      <td>10</td>\n",
              "      <td>10</td>\n",
              "      <td>Airtel</td>\n",
              "      <td>M</td>\n",
              "      <td>44</td>\n",
              "      <td>40</td>\n",
              "      <td>Middle-agged Adults</td>\n",
              "      <td>Uttarakhand</td>\n",
              "      <td>Chennai</td>\n",
              "      <td>North India</td>\n",
              "      <td>...</td>\n",
              "      <td>0</td>\n",
              "      <td>Single</td>\n",
              "      <td>133288</td>\n",
              "      <td>7</td>\n",
              "      <td>0</td>\n",
              "      <td>7</td>\n",
              "      <td>0</td>\n",
              "      <td>1275</td>\n",
              "      <td>0</td>\n",
              "      <td>1</td>\n",
              "    </tr>\n",
              "    <tr>\n",
              "      <th>11</th>\n",
              "      <td>11</td>\n",
              "      <td>11</td>\n",
              "      <td>Airtel</td>\n",
              "      <td>M</td>\n",
              "      <td>56</td>\n",
              "      <td>50</td>\n",
              "      <td>Old Adults</td>\n",
              "      <td>Odisha</td>\n",
              "      <td>Mumbai</td>\n",
              "      <td>East India</td>\n",
              "      <td>...</td>\n",
              "      <td>4</td>\n",
              "      <td>Not single</td>\n",
              "      <td>135129</td>\n",
              "      <td>39</td>\n",
              "      <td>0</td>\n",
              "      <td>51</td>\n",
              "      <td>0</td>\n",
              "      <td>7644</td>\n",
              "      <td>0</td>\n",
              "      <td>0</td>\n",
              "    </tr>\n",
              "    <tr>\n",
              "      <th>12</th>\n",
              "      <td>12</td>\n",
              "      <td>12</td>\n",
              "      <td>Vodafone</td>\n",
              "      <td>F</td>\n",
              "      <td>64</td>\n",
              "      <td>60</td>\n",
              "      <td>Old Adults</td>\n",
              "      <td>Uttar Pradesh</td>\n",
              "      <td>Hyderabad</td>\n",
              "      <td>North India</td>\n",
              "      <td>...</td>\n",
              "      <td>4</td>\n",
              "      <td>Not single</td>\n",
              "      <td>136967</td>\n",
              "      <td>40</td>\n",
              "      <td>0</td>\n",
              "      <td>4</td>\n",
              "      <td>0</td>\n",
              "      <td>1911</td>\n",
              "      <td>0</td>\n",
              "      <td>0</td>\n",
              "    </tr>\n",
              "    <tr>\n",
              "      <th>13</th>\n",
              "      <td>13</td>\n",
              "      <td>13</td>\n",
              "      <td>Vodafone</td>\n",
              "      <td>F</td>\n",
              "      <td>70</td>\n",
              "      <td>70</td>\n",
              "      <td>Old Adults</td>\n",
              "      <td>Chhattisgarh</td>\n",
              "      <td>Kolkata</td>\n",
              "      <td>Central India</td>\n",
              "      <td>...</td>\n",
              "      <td>0</td>\n",
              "      <td>Single</td>\n",
              "      <td>140219</td>\n",
              "      <td>50</td>\n",
              "      <td>0</td>\n",
              "      <td>17</td>\n",
              "      <td>0</td>\n",
              "      <td>7727</td>\n",
              "      <td>0</td>\n",
              "      <td>0</td>\n",
              "    </tr>\n",
              "    <tr>\n",
              "      <th>14</th>\n",
              "      <td>14</td>\n",
              "      <td>14</td>\n",
              "      <td>Vodafone</td>\n",
              "      <td>F</td>\n",
              "      <td>38</td>\n",
              "      <td>30</td>\n",
              "      <td>Middle-agged Adults</td>\n",
              "      <td>Uttar Pradesh</td>\n",
              "      <td>Delhi</td>\n",
              "      <td>North India</td>\n",
              "      <td>...</td>\n",
              "      <td>1</td>\n",
              "      <td>Not single</td>\n",
              "      <td>147805</td>\n",
              "      <td>86</td>\n",
              "      <td>0</td>\n",
              "      <td>20</td>\n",
              "      <td>0</td>\n",
              "      <td>8058</td>\n",
              "      <td>0</td>\n",
              "      <td>0</td>\n",
              "    </tr>\n",
              "    <tr>\n",
              "      <th>15</th>\n",
              "      <td>15</td>\n",
              "      <td>15</td>\n",
              "      <td>BSNL</td>\n",
              "      <td>M</td>\n",
              "      <td>22</td>\n",
              "      <td>20</td>\n",
              "      <td>Young Adults</td>\n",
              "      <td>Tamil Nadu</td>\n",
              "      <td>Mumbai</td>\n",
              "      <td>South India</td>\n",
              "      <td>...</td>\n",
              "      <td>3</td>\n",
              "      <td>Not single</td>\n",
              "      <td>100340</td>\n",
              "      <td>88</td>\n",
              "      <td>0</td>\n",
              "      <td>40</td>\n",
              "      <td>0</td>\n",
              "      <td>6303</td>\n",
              "      <td>0</td>\n",
              "      <td>0</td>\n",
              "    </tr>\n",
              "    <tr>\n",
              "      <th>16</th>\n",
              "      <td>16</td>\n",
              "      <td>16</td>\n",
              "      <td>Vodafone</td>\n",
              "      <td>M</td>\n",
              "      <td>61</td>\n",
              "      <td>60</td>\n",
              "      <td>Old Adults</td>\n",
              "      <td>Himachal Pradesh</td>\n",
              "      <td>Hyderabad</td>\n",
              "      <td>North India</td>\n",
              "      <td>...</td>\n",
              "      <td>2</td>\n",
              "      <td>Not single</td>\n",
              "      <td>59723</td>\n",
              "      <td>16</td>\n",
              "      <td>0</td>\n",
              "      <td>42</td>\n",
              "      <td>0</td>\n",
              "      <td>8157</td>\n",
              "      <td>0</td>\n",
              "      <td>1</td>\n",
              "    </tr>\n",
              "    <tr>\n",
              "      <th>17</th>\n",
              "      <td>17</td>\n",
              "      <td>17</td>\n",
              "      <td>Reliance Jio</td>\n",
              "      <td>M</td>\n",
              "      <td>59</td>\n",
              "      <td>50</td>\n",
              "      <td>Old Adults</td>\n",
              "      <td>Madhya Pradesh</td>\n",
              "      <td>Hyderabad</td>\n",
              "      <td>Central India</td>\n",
              "      <td>...</td>\n",
              "      <td>1</td>\n",
              "      <td>Not single</td>\n",
              "      <td>101694</td>\n",
              "      <td>80</td>\n",
              "      <td>0</td>\n",
              "      <td>20</td>\n",
              "      <td>0</td>\n",
              "      <td>2605</td>\n",
              "      <td>0</td>\n",
              "      <td>0</td>\n",
              "    </tr>\n",
              "    <tr>\n",
              "      <th>18</th>\n",
              "      <td>18</td>\n",
              "      <td>18</td>\n",
              "      <td>Airtel</td>\n",
              "      <td>F</td>\n",
              "      <td>47</td>\n",
              "      <td>40</td>\n",
              "      <td>Old Adults</td>\n",
              "      <td>Manipur</td>\n",
              "      <td>Delhi</td>\n",
              "      <td>Northeast India</td>\n",
              "      <td>...</td>\n",
              "      <td>1</td>\n",
              "      <td>Not single</td>\n",
              "      <td>138037</td>\n",
              "      <td>60</td>\n",
              "      <td>0</td>\n",
              "      <td>28</td>\n",
              "      <td>0</td>\n",
              "      <td>1432</td>\n",
              "      <td>0</td>\n",
              "      <td>0</td>\n",
              "    </tr>\n",
              "    <tr>\n",
              "      <th>19</th>\n",
              "      <td>19</td>\n",
              "      <td>19</td>\n",
              "      <td>Vodafone</td>\n",
              "      <td>M</td>\n",
              "      <td>26</td>\n",
              "      <td>20</td>\n",
              "      <td>Young Adults</td>\n",
              "      <td>Uttar Pradesh</td>\n",
              "      <td>Hyderabad</td>\n",
              "      <td>North India</td>\n",
              "      <td>...</td>\n",
              "      <td>1</td>\n",
              "      <td>Not single</td>\n",
              "      <td>109753</td>\n",
              "      <td>95</td>\n",
              "      <td>0</td>\n",
              "      <td>1</td>\n",
              "      <td>1</td>\n",
              "      <td>9993</td>\n",
              "      <td>0</td>\n",
              "      <td>0</td>\n",
              "    </tr>\n",
              "  </tbody>\n",
              "</table>\n",
              "<p>20 rows × 23 columns</p>\n",
              "</div>\n",
              "    <div class=\"colab-df-buttons\">\n",
              "\n",
              "  <div class=\"colab-df-container\">\n",
              "    <button class=\"colab-df-convert\" onclick=\"convertToInteractive('df-d76944b0-7a4a-4a5f-b63a-1981206aa644')\"\n",
              "            title=\"Convert this dataframe to an interactive table.\"\n",
              "            style=\"display:none;\">\n",
              "\n",
              "  <svg xmlns=\"http://www.w3.org/2000/svg\" height=\"24px\" viewBox=\"0 -960 960 960\">\n",
              "    <path d=\"M120-120v-720h720v720H120Zm60-500h600v-160H180v160Zm220 220h160v-160H400v160Zm0 220h160v-160H400v160ZM180-400h160v-160H180v160Zm440 0h160v-160H620v160ZM180-180h160v-160H180v160Zm440 0h160v-160H620v160Z\"/>\n",
              "  </svg>\n",
              "    </button>\n",
              "\n",
              "  <style>\n",
              "    .colab-df-container {\n",
              "      display:flex;\n",
              "      gap: 12px;\n",
              "    }\n",
              "\n",
              "    .colab-df-convert {\n",
              "      background-color: #E8F0FE;\n",
              "      border: none;\n",
              "      border-radius: 50%;\n",
              "      cursor: pointer;\n",
              "      display: none;\n",
              "      fill: #1967D2;\n",
              "      height: 32px;\n",
              "      padding: 0 0 0 0;\n",
              "      width: 32px;\n",
              "    }\n",
              "\n",
              "    .colab-df-convert:hover {\n",
              "      background-color: #E2EBFA;\n",
              "      box-shadow: 0px 1px 2px rgba(60, 64, 67, 0.3), 0px 1px 3px 1px rgba(60, 64, 67, 0.15);\n",
              "      fill: #174EA6;\n",
              "    }\n",
              "\n",
              "    .colab-df-buttons div {\n",
              "      margin-bottom: 4px;\n",
              "    }\n",
              "\n",
              "    [theme=dark] .colab-df-convert {\n",
              "      background-color: #3B4455;\n",
              "      fill: #D2E3FC;\n",
              "    }\n",
              "\n",
              "    [theme=dark] .colab-df-convert:hover {\n",
              "      background-color: #434B5C;\n",
              "      box-shadow: 0px 1px 3px 1px rgba(0, 0, 0, 0.15);\n",
              "      filter: drop-shadow(0px 1px 2px rgba(0, 0, 0, 0.3));\n",
              "      fill: #FFFFFF;\n",
              "    }\n",
              "  </style>\n",
              "\n",
              "    <script>\n",
              "      const buttonEl =\n",
              "        document.querySelector('#df-d76944b0-7a4a-4a5f-b63a-1981206aa644 button.colab-df-convert');\n",
              "      buttonEl.style.display =\n",
              "        google.colab.kernel.accessAllowed ? 'block' : 'none';\n",
              "\n",
              "      async function convertToInteractive(key) {\n",
              "        const element = document.querySelector('#df-d76944b0-7a4a-4a5f-b63a-1981206aa644');\n",
              "        const dataTable =\n",
              "          await google.colab.kernel.invokeFunction('convertToInteractive',\n",
              "                                                    [key], {});\n",
              "        if (!dataTable) return;\n",
              "\n",
              "        const docLinkHtml = 'Like what you see? Visit the ' +\n",
              "          '<a target=\"_blank\" href=https://colab.research.google.com/notebooks/data_table.ipynb>data table notebook</a>'\n",
              "          + ' to learn more about interactive tables.';\n",
              "        element.innerHTML = '';\n",
              "        dataTable['output_type'] = 'display_data';\n",
              "        await google.colab.output.renderOutput(dataTable, element);\n",
              "        const docLink = document.createElement('div');\n",
              "        docLink.innerHTML = docLinkHtml;\n",
              "        element.appendChild(docLink);\n",
              "      }\n",
              "    </script>\n",
              "  </div>\n",
              "\n",
              "\n",
              "<div id=\"df-1d0852aa-33f0-42d1-9aa3-cd1be2da909f\">\n",
              "  <button class=\"colab-df-quickchart\" onclick=\"quickchart('df-1d0852aa-33f0-42d1-9aa3-cd1be2da909f')\"\n",
              "            title=\"Suggest charts\"\n",
              "            style=\"display:none;\">\n",
              "\n",
              "<svg xmlns=\"http://www.w3.org/2000/svg\" height=\"24px\"viewBox=\"0 0 24 24\"\n",
              "     width=\"24px\">\n",
              "    <g>\n",
              "        <path d=\"M19 3H5c-1.1 0-2 .9-2 2v14c0 1.1.9 2 2 2h14c1.1 0 2-.9 2-2V5c0-1.1-.9-2-2-2zM9 17H7v-7h2v7zm4 0h-2V7h2v10zm4 0h-2v-4h2v4z\"/>\n",
              "    </g>\n",
              "</svg>\n",
              "  </button>\n",
              "\n",
              "<style>\n",
              "  .colab-df-quickchart {\n",
              "      --bg-color: #E8F0FE;\n",
              "      --fill-color: #1967D2;\n",
              "      --hover-bg-color: #E2EBFA;\n",
              "      --hover-fill-color: #174EA6;\n",
              "      --disabled-fill-color: #AAA;\n",
              "      --disabled-bg-color: #DDD;\n",
              "  }\n",
              "\n",
              "  [theme=dark] .colab-df-quickchart {\n",
              "      --bg-color: #3B4455;\n",
              "      --fill-color: #D2E3FC;\n",
              "      --hover-bg-color: #434B5C;\n",
              "      --hover-fill-color: #FFFFFF;\n",
              "      --disabled-bg-color: #3B4455;\n",
              "      --disabled-fill-color: #666;\n",
              "  }\n",
              "\n",
              "  .colab-df-quickchart {\n",
              "    background-color: var(--bg-color);\n",
              "    border: none;\n",
              "    border-radius: 50%;\n",
              "    cursor: pointer;\n",
              "    display: none;\n",
              "    fill: var(--fill-color);\n",
              "    height: 32px;\n",
              "    padding: 0;\n",
              "    width: 32px;\n",
              "  }\n",
              "\n",
              "  .colab-df-quickchart:hover {\n",
              "    background-color: var(--hover-bg-color);\n",
              "    box-shadow: 0 1px 2px rgba(60, 64, 67, 0.3), 0 1px 3px 1px rgba(60, 64, 67, 0.15);\n",
              "    fill: var(--button-hover-fill-color);\n",
              "  }\n",
              "\n",
              "  .colab-df-quickchart-complete:disabled,\n",
              "  .colab-df-quickchart-complete:disabled:hover {\n",
              "    background-color: var(--disabled-bg-color);\n",
              "    fill: var(--disabled-fill-color);\n",
              "    box-shadow: none;\n",
              "  }\n",
              "\n",
              "  .colab-df-spinner {\n",
              "    border: 2px solid var(--fill-color);\n",
              "    border-color: transparent;\n",
              "    border-bottom-color: var(--fill-color);\n",
              "    animation:\n",
              "      spin 1s steps(1) infinite;\n",
              "  }\n",
              "\n",
              "  @keyframes spin {\n",
              "    0% {\n",
              "      border-color: transparent;\n",
              "      border-bottom-color: var(--fill-color);\n",
              "      border-left-color: var(--fill-color);\n",
              "    }\n",
              "    20% {\n",
              "      border-color: transparent;\n",
              "      border-left-color: var(--fill-color);\n",
              "      border-top-color: var(--fill-color);\n",
              "    }\n",
              "    30% {\n",
              "      border-color: transparent;\n",
              "      border-left-color: var(--fill-color);\n",
              "      border-top-color: var(--fill-color);\n",
              "      border-right-color: var(--fill-color);\n",
              "    }\n",
              "    40% {\n",
              "      border-color: transparent;\n",
              "      border-right-color: var(--fill-color);\n",
              "      border-top-color: var(--fill-color);\n",
              "    }\n",
              "    60% {\n",
              "      border-color: transparent;\n",
              "      border-right-color: var(--fill-color);\n",
              "    }\n",
              "    80% {\n",
              "      border-color: transparent;\n",
              "      border-right-color: var(--fill-color);\n",
              "      border-bottom-color: var(--fill-color);\n",
              "    }\n",
              "    90% {\n",
              "      border-color: transparent;\n",
              "      border-bottom-color: var(--fill-color);\n",
              "    }\n",
              "  }\n",
              "</style>\n",
              "\n",
              "  <script>\n",
              "    async function quickchart(key) {\n",
              "      const quickchartButtonEl =\n",
              "        document.querySelector('#' + key + ' button');\n",
              "      quickchartButtonEl.disabled = true;  // To prevent multiple clicks.\n",
              "      quickchartButtonEl.classList.add('colab-df-spinner');\n",
              "      try {\n",
              "        const charts = await google.colab.kernel.invokeFunction(\n",
              "            'suggestCharts', [key], {});\n",
              "      } catch (error) {\n",
              "        console.error('Error during call to suggestCharts:', error);\n",
              "      }\n",
              "      quickchartButtonEl.classList.remove('colab-df-spinner');\n",
              "      quickchartButtonEl.classList.add('colab-df-quickchart-complete');\n",
              "    }\n",
              "    (() => {\n",
              "      let quickchartButtonEl =\n",
              "        document.querySelector('#df-1d0852aa-33f0-42d1-9aa3-cd1be2da909f button');\n",
              "      quickchartButtonEl.style.display =\n",
              "        google.colab.kernel.accessAllowed ? 'block' : 'none';\n",
              "    })();\n",
              "  </script>\n",
              "</div>\n",
              "\n",
              "    </div>\n",
              "  </div>\n"
            ],
            "application/vnd.google.colaboratory.intrinsic+json": {
              "type": "dataframe",
              "variable_name": "data"
            }
          },
          "metadata": {},
          "execution_count": 59
        }
      ]
    },
    {
      "cell_type": "code",
      "source": [
        "# Dataset Information\n",
        "data.info()"
      ],
      "metadata": {
        "colab": {
          "base_uri": "https://localhost:8080/"
        },
        "id": "N5PTsLgcrrne",
        "outputId": "ff3e599d-d01e-4c74-e7cc-db0c93ef68eb"
      },
      "execution_count": 60,
      "outputs": [
        {
          "output_type": "stream",
          "name": "stdout",
          "text": [
            "<class 'pandas.core.frame.DataFrame'>\n",
            "RangeIndex: 243553 entries, 0 to 243552\n",
            "Data columns (total 23 columns):\n",
            " #   Column               Non-Null Count   Dtype \n",
            "---  ------               --------------   ----- \n",
            " 0   Unnamed: 0.1         243553 non-null  int64 \n",
            " 1   Unnamed: 0           243553 non-null  int64 \n",
            " 2   telecom_partner      243553 non-null  object\n",
            " 3   gender               243553 non-null  object\n",
            " 4   age                  243553 non-null  int64 \n",
            " 5   age_decay_range      243553 non-null  int64 \n",
            " 6   age_interval         243553 non-null  object\n",
            " 7   state                243553 non-null  object\n",
            " 8   city                 243553 non-null  object\n",
            " 9   region               243553 non-null  object\n",
            " 10  registration_year    243553 non-null  int64 \n",
            " 11  registration_month   243553 non-null  int64 \n",
            " 12  registration_day     243553 non-null  int64 \n",
            " 13  num_dependents       243553 non-null  int64 \n",
            " 14  single or not        243553 non-null  object\n",
            " 15  estimated_salary     243553 non-null  int64 \n",
            " 16  calls_made           243553 non-null  int64 \n",
            " 17  calls_made_negative  243553 non-null  int64 \n",
            " 18  sms_sent             243553 non-null  int64 \n",
            " 19  sms_sent_negative    243553 non-null  int64 \n",
            " 20  data_used            243553 non-null  int64 \n",
            " 21  data_used_negative   243553 non-null  int64 \n",
            " 22  churn                243553 non-null  int64 \n",
            "dtypes: int64(16), object(7)\n",
            "memory usage: 42.7+ MB\n"
          ]
        }
      ]
    },
    {
      "cell_type": "markdown",
      "source": [
        "In this notebook,__\"age\", \"age_decay_range\", and \"age_interval\"__ will be focused in data analysis and visualization.\n",
        "________________________________________"
      ],
      "metadata": {
        "id": "W3UGZrW5sAxK"
      }
    },
    {
      "cell_type": "markdown",
      "source": [
        "## **Data Analysis**"
      ],
      "metadata": {
        "id": "pgI9BxNmq97k"
      }
    },
    {
      "cell_type": "markdown",
      "source": [
        "### **\"age\" Overview**"
      ],
      "metadata": {
        "id": "J_LWnKTZvx-G"
      }
    },
    {
      "cell_type": "code",
      "source": [
        "# Statistical Describtion of age column\n",
        "data[[\"age\"]].describe()"
      ],
      "metadata": {
        "colab": {
          "base_uri": "https://localhost:8080/",
          "height": 300
        },
        "id": "6h6aESUwrq8H",
        "outputId": "c2779bbf-3c61-4451-f52f-b7cf02593983"
      },
      "execution_count": 61,
      "outputs": [
        {
          "output_type": "execute_result",
          "data": {
            "text/plain": [
              "                 age\n",
              "count  243553.000000\n",
              "mean       46.077609\n",
              "std        16.444029\n",
              "min        18.000000\n",
              "25%        32.000000\n",
              "50%        46.000000\n",
              "75%        60.000000\n",
              "max        74.000000"
            ],
            "text/html": [
              "\n",
              "  <div id=\"df-251f59da-bd59-429e-bc20-3e0e3e6fafa5\" class=\"colab-df-container\">\n",
              "    <div>\n",
              "<style scoped>\n",
              "    .dataframe tbody tr th:only-of-type {\n",
              "        vertical-align: middle;\n",
              "    }\n",
              "\n",
              "    .dataframe tbody tr th {\n",
              "        vertical-align: top;\n",
              "    }\n",
              "\n",
              "    .dataframe thead th {\n",
              "        text-align: right;\n",
              "    }\n",
              "</style>\n",
              "<table border=\"1\" class=\"dataframe\">\n",
              "  <thead>\n",
              "    <tr style=\"text-align: right;\">\n",
              "      <th></th>\n",
              "      <th>age</th>\n",
              "    </tr>\n",
              "  </thead>\n",
              "  <tbody>\n",
              "    <tr>\n",
              "      <th>count</th>\n",
              "      <td>243553.000000</td>\n",
              "    </tr>\n",
              "    <tr>\n",
              "      <th>mean</th>\n",
              "      <td>46.077609</td>\n",
              "    </tr>\n",
              "    <tr>\n",
              "      <th>std</th>\n",
              "      <td>16.444029</td>\n",
              "    </tr>\n",
              "    <tr>\n",
              "      <th>min</th>\n",
              "      <td>18.000000</td>\n",
              "    </tr>\n",
              "    <tr>\n",
              "      <th>25%</th>\n",
              "      <td>32.000000</td>\n",
              "    </tr>\n",
              "    <tr>\n",
              "      <th>50%</th>\n",
              "      <td>46.000000</td>\n",
              "    </tr>\n",
              "    <tr>\n",
              "      <th>75%</th>\n",
              "      <td>60.000000</td>\n",
              "    </tr>\n",
              "    <tr>\n",
              "      <th>max</th>\n",
              "      <td>74.000000</td>\n",
              "    </tr>\n",
              "  </tbody>\n",
              "</table>\n",
              "</div>\n",
              "    <div class=\"colab-df-buttons\">\n",
              "\n",
              "  <div class=\"colab-df-container\">\n",
              "    <button class=\"colab-df-convert\" onclick=\"convertToInteractive('df-251f59da-bd59-429e-bc20-3e0e3e6fafa5')\"\n",
              "            title=\"Convert this dataframe to an interactive table.\"\n",
              "            style=\"display:none;\">\n",
              "\n",
              "  <svg xmlns=\"http://www.w3.org/2000/svg\" height=\"24px\" viewBox=\"0 -960 960 960\">\n",
              "    <path d=\"M120-120v-720h720v720H120Zm60-500h600v-160H180v160Zm220 220h160v-160H400v160Zm0 220h160v-160H400v160ZM180-400h160v-160H180v160Zm440 0h160v-160H620v160ZM180-180h160v-160H180v160Zm440 0h160v-160H620v160Z\"/>\n",
              "  </svg>\n",
              "    </button>\n",
              "\n",
              "  <style>\n",
              "    .colab-df-container {\n",
              "      display:flex;\n",
              "      gap: 12px;\n",
              "    }\n",
              "\n",
              "    .colab-df-convert {\n",
              "      background-color: #E8F0FE;\n",
              "      border: none;\n",
              "      border-radius: 50%;\n",
              "      cursor: pointer;\n",
              "      display: none;\n",
              "      fill: #1967D2;\n",
              "      height: 32px;\n",
              "      padding: 0 0 0 0;\n",
              "      width: 32px;\n",
              "    }\n",
              "\n",
              "    .colab-df-convert:hover {\n",
              "      background-color: #E2EBFA;\n",
              "      box-shadow: 0px 1px 2px rgba(60, 64, 67, 0.3), 0px 1px 3px 1px rgba(60, 64, 67, 0.15);\n",
              "      fill: #174EA6;\n",
              "    }\n",
              "\n",
              "    .colab-df-buttons div {\n",
              "      margin-bottom: 4px;\n",
              "    }\n",
              "\n",
              "    [theme=dark] .colab-df-convert {\n",
              "      background-color: #3B4455;\n",
              "      fill: #D2E3FC;\n",
              "    }\n",
              "\n",
              "    [theme=dark] .colab-df-convert:hover {\n",
              "      background-color: #434B5C;\n",
              "      box-shadow: 0px 1px 3px 1px rgba(0, 0, 0, 0.15);\n",
              "      filter: drop-shadow(0px 1px 2px rgba(0, 0, 0, 0.3));\n",
              "      fill: #FFFFFF;\n",
              "    }\n",
              "  </style>\n",
              "\n",
              "    <script>\n",
              "      const buttonEl =\n",
              "        document.querySelector('#df-251f59da-bd59-429e-bc20-3e0e3e6fafa5 button.colab-df-convert');\n",
              "      buttonEl.style.display =\n",
              "        google.colab.kernel.accessAllowed ? 'block' : 'none';\n",
              "\n",
              "      async function convertToInteractive(key) {\n",
              "        const element = document.querySelector('#df-251f59da-bd59-429e-bc20-3e0e3e6fafa5');\n",
              "        const dataTable =\n",
              "          await google.colab.kernel.invokeFunction('convertToInteractive',\n",
              "                                                    [key], {});\n",
              "        if (!dataTable) return;\n",
              "\n",
              "        const docLinkHtml = 'Like what you see? Visit the ' +\n",
              "          '<a target=\"_blank\" href=https://colab.research.google.com/notebooks/data_table.ipynb>data table notebook</a>'\n",
              "          + ' to learn more about interactive tables.';\n",
              "        element.innerHTML = '';\n",
              "        dataTable['output_type'] = 'display_data';\n",
              "        await google.colab.output.renderOutput(dataTable, element);\n",
              "        const docLink = document.createElement('div');\n",
              "        docLink.innerHTML = docLinkHtml;\n",
              "        element.appendChild(docLink);\n",
              "      }\n",
              "    </script>\n",
              "  </div>\n",
              "\n",
              "\n",
              "<div id=\"df-b2cec714-e1ee-4378-941b-3884a3537ec5\">\n",
              "  <button class=\"colab-df-quickchart\" onclick=\"quickchart('df-b2cec714-e1ee-4378-941b-3884a3537ec5')\"\n",
              "            title=\"Suggest charts\"\n",
              "            style=\"display:none;\">\n",
              "\n",
              "<svg xmlns=\"http://www.w3.org/2000/svg\" height=\"24px\"viewBox=\"0 0 24 24\"\n",
              "     width=\"24px\">\n",
              "    <g>\n",
              "        <path d=\"M19 3H5c-1.1 0-2 .9-2 2v14c0 1.1.9 2 2 2h14c1.1 0 2-.9 2-2V5c0-1.1-.9-2-2-2zM9 17H7v-7h2v7zm4 0h-2V7h2v10zm4 0h-2v-4h2v4z\"/>\n",
              "    </g>\n",
              "</svg>\n",
              "  </button>\n",
              "\n",
              "<style>\n",
              "  .colab-df-quickchart {\n",
              "      --bg-color: #E8F0FE;\n",
              "      --fill-color: #1967D2;\n",
              "      --hover-bg-color: #E2EBFA;\n",
              "      --hover-fill-color: #174EA6;\n",
              "      --disabled-fill-color: #AAA;\n",
              "      --disabled-bg-color: #DDD;\n",
              "  }\n",
              "\n",
              "  [theme=dark] .colab-df-quickchart {\n",
              "      --bg-color: #3B4455;\n",
              "      --fill-color: #D2E3FC;\n",
              "      --hover-bg-color: #434B5C;\n",
              "      --hover-fill-color: #FFFFFF;\n",
              "      --disabled-bg-color: #3B4455;\n",
              "      --disabled-fill-color: #666;\n",
              "  }\n",
              "\n",
              "  .colab-df-quickchart {\n",
              "    background-color: var(--bg-color);\n",
              "    border: none;\n",
              "    border-radius: 50%;\n",
              "    cursor: pointer;\n",
              "    display: none;\n",
              "    fill: var(--fill-color);\n",
              "    height: 32px;\n",
              "    padding: 0;\n",
              "    width: 32px;\n",
              "  }\n",
              "\n",
              "  .colab-df-quickchart:hover {\n",
              "    background-color: var(--hover-bg-color);\n",
              "    box-shadow: 0 1px 2px rgba(60, 64, 67, 0.3), 0 1px 3px 1px rgba(60, 64, 67, 0.15);\n",
              "    fill: var(--button-hover-fill-color);\n",
              "  }\n",
              "\n",
              "  .colab-df-quickchart-complete:disabled,\n",
              "  .colab-df-quickchart-complete:disabled:hover {\n",
              "    background-color: var(--disabled-bg-color);\n",
              "    fill: var(--disabled-fill-color);\n",
              "    box-shadow: none;\n",
              "  }\n",
              "\n",
              "  .colab-df-spinner {\n",
              "    border: 2px solid var(--fill-color);\n",
              "    border-color: transparent;\n",
              "    border-bottom-color: var(--fill-color);\n",
              "    animation:\n",
              "      spin 1s steps(1) infinite;\n",
              "  }\n",
              "\n",
              "  @keyframes spin {\n",
              "    0% {\n",
              "      border-color: transparent;\n",
              "      border-bottom-color: var(--fill-color);\n",
              "      border-left-color: var(--fill-color);\n",
              "    }\n",
              "    20% {\n",
              "      border-color: transparent;\n",
              "      border-left-color: var(--fill-color);\n",
              "      border-top-color: var(--fill-color);\n",
              "    }\n",
              "    30% {\n",
              "      border-color: transparent;\n",
              "      border-left-color: var(--fill-color);\n",
              "      border-top-color: var(--fill-color);\n",
              "      border-right-color: var(--fill-color);\n",
              "    }\n",
              "    40% {\n",
              "      border-color: transparent;\n",
              "      border-right-color: var(--fill-color);\n",
              "      border-top-color: var(--fill-color);\n",
              "    }\n",
              "    60% {\n",
              "      border-color: transparent;\n",
              "      border-right-color: var(--fill-color);\n",
              "    }\n",
              "    80% {\n",
              "      border-color: transparent;\n",
              "      border-right-color: var(--fill-color);\n",
              "      border-bottom-color: var(--fill-color);\n",
              "    }\n",
              "    90% {\n",
              "      border-color: transparent;\n",
              "      border-bottom-color: var(--fill-color);\n",
              "    }\n",
              "  }\n",
              "</style>\n",
              "\n",
              "  <script>\n",
              "    async function quickchart(key) {\n",
              "      const quickchartButtonEl =\n",
              "        document.querySelector('#' + key + ' button');\n",
              "      quickchartButtonEl.disabled = true;  // To prevent multiple clicks.\n",
              "      quickchartButtonEl.classList.add('colab-df-spinner');\n",
              "      try {\n",
              "        const charts = await google.colab.kernel.invokeFunction(\n",
              "            'suggestCharts', [key], {});\n",
              "      } catch (error) {\n",
              "        console.error('Error during call to suggestCharts:', error);\n",
              "      }\n",
              "      quickchartButtonEl.classList.remove('colab-df-spinner');\n",
              "      quickchartButtonEl.classList.add('colab-df-quickchart-complete');\n",
              "    }\n",
              "    (() => {\n",
              "      let quickchartButtonEl =\n",
              "        document.querySelector('#df-b2cec714-e1ee-4378-941b-3884a3537ec5 button');\n",
              "      quickchartButtonEl.style.display =\n",
              "        google.colab.kernel.accessAllowed ? 'block' : 'none';\n",
              "    })();\n",
              "  </script>\n",
              "</div>\n",
              "\n",
              "    </div>\n",
              "  </div>\n"
            ],
            "application/vnd.google.colaboratory.intrinsic+json": {
              "type": "dataframe",
              "summary": "{\n  \"name\": \"data[[\\\"age\\\"]]\",\n  \"rows\": 8,\n  \"fields\": [\n    {\n      \"column\": \"age\",\n      \"properties\": {\n        \"dtype\": \"number\",\n        \"std\": 86094.21661316461,\n        \"min\": 16.444029381498563,\n        \"max\": 243553.0,\n        \"num_unique_values\": 8,\n        \"samples\": [\n          46.07760939097445,\n          46.0,\n          243553.0\n        ],\n        \"semantic_type\": \"\",\n        \"description\": \"\"\n      }\n    }\n  ]\n}"
            }
          },
          "metadata": {},
          "execution_count": 61
        }
      ]
    },
    {
      "cell_type": "markdown",
      "source": [
        " $\\ 18<= year <= 74 $\n",
        "______________________"
      ],
      "metadata": {
        "id": "QXojv9pYtcKF"
      }
    },
    {
      "cell_type": "markdown",
      "source": [
        "### **\"age_decay_range\" Overview**"
      ],
      "metadata": {
        "id": "cO7C9KKPv-nf"
      }
    },
    {
      "cell_type": "code",
      "execution_count": 62,
      "metadata": {
        "colab": {
          "base_uri": "https://localhost:8080/",
          "height": 335
        },
        "id": "O2dStgr5qpxg",
        "outputId": "3018a5d8-a0e8-42a9-8274-75300c4ffe48"
      },
      "outputs": [
        {
          "output_type": "execute_result",
          "data": {
            "text/plain": [
              "age_decay_range\n",
              "60    43331\n",
              "50    42659\n",
              "30    42626\n",
              "40    42601\n",
              "20    42517\n",
              "70    21377\n",
              "10     8442\n",
              "Name: count, dtype: int64"
            ],
            "text/html": [
              "<div>\n",
              "<style scoped>\n",
              "    .dataframe tbody tr th:only-of-type {\n",
              "        vertical-align: middle;\n",
              "    }\n",
              "\n",
              "    .dataframe tbody tr th {\n",
              "        vertical-align: top;\n",
              "    }\n",
              "\n",
              "    .dataframe thead th {\n",
              "        text-align: right;\n",
              "    }\n",
              "</style>\n",
              "<table border=\"1\" class=\"dataframe\">\n",
              "  <thead>\n",
              "    <tr style=\"text-align: right;\">\n",
              "      <th></th>\n",
              "      <th>count</th>\n",
              "    </tr>\n",
              "    <tr>\n",
              "      <th>age_decay_range</th>\n",
              "      <th></th>\n",
              "    </tr>\n",
              "  </thead>\n",
              "  <tbody>\n",
              "    <tr>\n",
              "      <th>60</th>\n",
              "      <td>43331</td>\n",
              "    </tr>\n",
              "    <tr>\n",
              "      <th>50</th>\n",
              "      <td>42659</td>\n",
              "    </tr>\n",
              "    <tr>\n",
              "      <th>30</th>\n",
              "      <td>42626</td>\n",
              "    </tr>\n",
              "    <tr>\n",
              "      <th>40</th>\n",
              "      <td>42601</td>\n",
              "    </tr>\n",
              "    <tr>\n",
              "      <th>20</th>\n",
              "      <td>42517</td>\n",
              "    </tr>\n",
              "    <tr>\n",
              "      <th>70</th>\n",
              "      <td>21377</td>\n",
              "    </tr>\n",
              "    <tr>\n",
              "      <th>10</th>\n",
              "      <td>8442</td>\n",
              "    </tr>\n",
              "  </tbody>\n",
              "</table>\n",
              "</div><br><label><b>dtype:</b> int64</label>"
            ]
          },
          "metadata": {},
          "execution_count": 62
        }
      ],
      "source": [
        "data[\"age_decay_range\"].value_counts()"
      ]
    },
    {
      "cell_type": "code",
      "source": [
        "data[\"age_decay_range\"].value_counts(normalize=True).mul(100).round(2).astype(str) + '%'"
      ],
      "metadata": {
        "colab": {
          "base_uri": "https://localhost:8080/",
          "height": 335
        },
        "id": "o-SVStRFxDM5",
        "outputId": "668eb028-3193-4122-e444-f11ba18b13d8"
      },
      "execution_count": 63,
      "outputs": [
        {
          "output_type": "execute_result",
          "data": {
            "text/plain": [
              "age_decay_range\n",
              "60    17.79%\n",
              "50    17.52%\n",
              "30     17.5%\n",
              "40    17.49%\n",
              "20    17.46%\n",
              "70     8.78%\n",
              "10     3.47%\n",
              "Name: proportion, dtype: object"
            ],
            "text/html": [
              "<div>\n",
              "<style scoped>\n",
              "    .dataframe tbody tr th:only-of-type {\n",
              "        vertical-align: middle;\n",
              "    }\n",
              "\n",
              "    .dataframe tbody tr th {\n",
              "        vertical-align: top;\n",
              "    }\n",
              "\n",
              "    .dataframe thead th {\n",
              "        text-align: right;\n",
              "    }\n",
              "</style>\n",
              "<table border=\"1\" class=\"dataframe\">\n",
              "  <thead>\n",
              "    <tr style=\"text-align: right;\">\n",
              "      <th></th>\n",
              "      <th>proportion</th>\n",
              "    </tr>\n",
              "    <tr>\n",
              "      <th>age_decay_range</th>\n",
              "      <th></th>\n",
              "    </tr>\n",
              "  </thead>\n",
              "  <tbody>\n",
              "    <tr>\n",
              "      <th>60</th>\n",
              "      <td>17.79%</td>\n",
              "    </tr>\n",
              "    <tr>\n",
              "      <th>50</th>\n",
              "      <td>17.52%</td>\n",
              "    </tr>\n",
              "    <tr>\n",
              "      <th>30</th>\n",
              "      <td>17.5%</td>\n",
              "    </tr>\n",
              "    <tr>\n",
              "      <th>40</th>\n",
              "      <td>17.49%</td>\n",
              "    </tr>\n",
              "    <tr>\n",
              "      <th>20</th>\n",
              "      <td>17.46%</td>\n",
              "    </tr>\n",
              "    <tr>\n",
              "      <th>70</th>\n",
              "      <td>8.78%</td>\n",
              "    </tr>\n",
              "    <tr>\n",
              "      <th>10</th>\n",
              "      <td>3.47%</td>\n",
              "    </tr>\n",
              "  </tbody>\n",
              "</table>\n",
              "</div><br><label><b>dtype:</b> object</label>"
            ]
          },
          "metadata": {},
          "execution_count": 63
        }
      ]
    },
    {
      "cell_type": "markdown",
      "source": [
        "* So, the \"age_decay_range\" is almost distributed equally likely except 70's and 10's decay range.\n",
        "* 60's is the dominant group in \"age_decay_range\" column.\n",
        "_____________________________________________"
      ],
      "metadata": {
        "id": "yaQfHBDIudBJ"
      }
    },
    {
      "cell_type": "markdown",
      "source": [
        "### **\"age_interval\" Overview**"
      ],
      "metadata": {
        "id": "YClXuG8fwEoi"
      }
    },
    {
      "cell_type": "markdown",
      "source": [
        "According to [Facial Age Group Classification Research](https://www.researchgate.net/publication/271253673_Facial_Age_Group_Classification)"
      ],
      "metadata": {
        "id": "DlNud68rdbcX"
      }
    },
    {
      "cell_type": "markdown",
      "source": [
        "![](https://www.researchgate.net/profile/Punit-Raninga/publication/271253673/figure/tbl1/AS:667620638482437@1536184572172/AGE-GROUP-NAME-WITH-ITS-AGE-RANGE.png)"
      ],
      "metadata": {
        "id": "4EVIxIeXdv6l"
      }
    },
    {
      "cell_type": "code",
      "source": [
        "data[\"age_interval\"].value_counts()"
      ],
      "metadata": {
        "colab": {
          "base_uri": "https://localhost:8080/",
          "height": 209
        },
        "id": "gbzLWQfftAQ3",
        "outputId": "aae389e1-a622-460e-8997-a5a94a6855e5"
      },
      "execution_count": 64,
      "outputs": [
        {
          "output_type": "execute_result",
          "data": {
            "text/plain": [
              "age_interval\n",
              "Old Adults             124576\n",
              "Middle-agged Adults     63764\n",
              "Young Adults            55213\n",
              "Name: count, dtype: int64"
            ],
            "text/html": [
              "<div>\n",
              "<style scoped>\n",
              "    .dataframe tbody tr th:only-of-type {\n",
              "        vertical-align: middle;\n",
              "    }\n",
              "\n",
              "    .dataframe tbody tr th {\n",
              "        vertical-align: top;\n",
              "    }\n",
              "\n",
              "    .dataframe thead th {\n",
              "        text-align: right;\n",
              "    }\n",
              "</style>\n",
              "<table border=\"1\" class=\"dataframe\">\n",
              "  <thead>\n",
              "    <tr style=\"text-align: right;\">\n",
              "      <th></th>\n",
              "      <th>count</th>\n",
              "    </tr>\n",
              "    <tr>\n",
              "      <th>age_interval</th>\n",
              "      <th></th>\n",
              "    </tr>\n",
              "  </thead>\n",
              "  <tbody>\n",
              "    <tr>\n",
              "      <th>Old Adults</th>\n",
              "      <td>124576</td>\n",
              "    </tr>\n",
              "    <tr>\n",
              "      <th>Middle-agged Adults</th>\n",
              "      <td>63764</td>\n",
              "    </tr>\n",
              "    <tr>\n",
              "      <th>Young Adults</th>\n",
              "      <td>55213</td>\n",
              "    </tr>\n",
              "  </tbody>\n",
              "</table>\n",
              "</div><br><label><b>dtype:</b> int64</label>"
            ]
          },
          "metadata": {},
          "execution_count": 64
        }
      ]
    },
    {
      "cell_type": "code",
      "source": [
        "data[\"age_interval\"].value_counts(normalize=True).mul(100).round(2).astype(str) + '%'"
      ],
      "metadata": {
        "colab": {
          "base_uri": "https://localhost:8080/",
          "height": 209
        },
        "id": "1D0OgY93xo-8",
        "outputId": "0b84fbc2-b27b-474f-891a-0fc7d42ac145"
      },
      "execution_count": 65,
      "outputs": [
        {
          "output_type": "execute_result",
          "data": {
            "text/plain": [
              "age_interval\n",
              "Old Adults             51.15%\n",
              "Middle-agged Adults    26.18%\n",
              "Young Adults           22.67%\n",
              "Name: proportion, dtype: object"
            ],
            "text/html": [
              "<div>\n",
              "<style scoped>\n",
              "    .dataframe tbody tr th:only-of-type {\n",
              "        vertical-align: middle;\n",
              "    }\n",
              "\n",
              "    .dataframe tbody tr th {\n",
              "        vertical-align: top;\n",
              "    }\n",
              "\n",
              "    .dataframe thead th {\n",
              "        text-align: right;\n",
              "    }\n",
              "</style>\n",
              "<table border=\"1\" class=\"dataframe\">\n",
              "  <thead>\n",
              "    <tr style=\"text-align: right;\">\n",
              "      <th></th>\n",
              "      <th>proportion</th>\n",
              "    </tr>\n",
              "    <tr>\n",
              "      <th>age_interval</th>\n",
              "      <th></th>\n",
              "    </tr>\n",
              "  </thead>\n",
              "  <tbody>\n",
              "    <tr>\n",
              "      <th>Old Adults</th>\n",
              "      <td>51.15%</td>\n",
              "    </tr>\n",
              "    <tr>\n",
              "      <th>Middle-agged Adults</th>\n",
              "      <td>26.18%</td>\n",
              "    </tr>\n",
              "    <tr>\n",
              "      <th>Young Adults</th>\n",
              "      <td>22.67%</td>\n",
              "    </tr>\n",
              "  </tbody>\n",
              "</table>\n",
              "</div><br><label><b>dtype:</b> object</label>"
            ]
          },
          "metadata": {},
          "execution_count": 65
        }
      ]
    },
    {
      "cell_type": "markdown",
      "source": [
        "* Old Adults (46 - 74) is the dominant group in this dataset by a big difference than other groups.\n",
        "_____________________________________"
      ],
      "metadata": {
        "id": "SVCXaItVwIUP"
      }
    },
    {
      "cell_type": "markdown",
      "source": [
        "### **\"age_interval\" and \"age_decay_range\"**"
      ],
      "metadata": {
        "id": "IlKJpT9Kzrzt"
      }
    },
    {
      "cell_type": "code",
      "source": [
        "data[\"age_decay_range\"].groupby(data[\"age_interval\"]).value_counts()"
      ],
      "metadata": {
        "colab": {
          "base_uri": "https://localhost:8080/",
          "height": 397
        },
        "id": "uunMTPFBtSVD",
        "outputId": "f65e5aa3-6b05-43b2-e2bc-3e9d68ec9bbd"
      },
      "execution_count": 66,
      "outputs": [
        {
          "output_type": "execute_result",
          "data": {
            "text/plain": [
              "age_interval         age_decay_range\n",
              "Middle-agged Adults  30                 38372\n",
              "                     40                 25392\n",
              "Old Adults           60                 43331\n",
              "                     50                 42659\n",
              "                     70                 21377\n",
              "                     40                 17209\n",
              "Young Adults         20                 42517\n",
              "                     10                  8442\n",
              "                     30                  4254\n",
              "Name: count, dtype: int64"
            ],
            "text/html": [
              "<div>\n",
              "<style scoped>\n",
              "    .dataframe tbody tr th:only-of-type {\n",
              "        vertical-align: middle;\n",
              "    }\n",
              "\n",
              "    .dataframe tbody tr th {\n",
              "        vertical-align: top;\n",
              "    }\n",
              "\n",
              "    .dataframe thead th {\n",
              "        text-align: right;\n",
              "    }\n",
              "</style>\n",
              "<table border=\"1\" class=\"dataframe\">\n",
              "  <thead>\n",
              "    <tr style=\"text-align: right;\">\n",
              "      <th></th>\n",
              "      <th></th>\n",
              "      <th>count</th>\n",
              "    </tr>\n",
              "    <tr>\n",
              "      <th>age_interval</th>\n",
              "      <th>age_decay_range</th>\n",
              "      <th></th>\n",
              "    </tr>\n",
              "  </thead>\n",
              "  <tbody>\n",
              "    <tr>\n",
              "      <th rowspan=\"2\" valign=\"top\">Middle-agged Adults</th>\n",
              "      <th>30</th>\n",
              "      <td>38372</td>\n",
              "    </tr>\n",
              "    <tr>\n",
              "      <th>40</th>\n",
              "      <td>25392</td>\n",
              "    </tr>\n",
              "    <tr>\n",
              "      <th rowspan=\"4\" valign=\"top\">Old Adults</th>\n",
              "      <th>60</th>\n",
              "      <td>43331</td>\n",
              "    </tr>\n",
              "    <tr>\n",
              "      <th>50</th>\n",
              "      <td>42659</td>\n",
              "    </tr>\n",
              "    <tr>\n",
              "      <th>70</th>\n",
              "      <td>21377</td>\n",
              "    </tr>\n",
              "    <tr>\n",
              "      <th>40</th>\n",
              "      <td>17209</td>\n",
              "    </tr>\n",
              "    <tr>\n",
              "      <th rowspan=\"3\" valign=\"top\">Young Adults</th>\n",
              "      <th>20</th>\n",
              "      <td>42517</td>\n",
              "    </tr>\n",
              "    <tr>\n",
              "      <th>10</th>\n",
              "      <td>8442</td>\n",
              "    </tr>\n",
              "    <tr>\n",
              "      <th>30</th>\n",
              "      <td>4254</td>\n",
              "    </tr>\n",
              "  </tbody>\n",
              "</table>\n",
              "</div><br><label><b>dtype:</b> int64</label>"
            ]
          },
          "metadata": {},
          "execution_count": 66
        }
      ]
    },
    {
      "cell_type": "code",
      "source": [
        "data[\"age_decay_range\"].groupby(data[\"age_interval\"]).value_counts(normalize=True).mul(100).round(2).astype(str) + '%'"
      ],
      "metadata": {
        "colab": {
          "base_uri": "https://localhost:8080/",
          "height": 397
        },
        "id": "x9IpduKF1KQT",
        "outputId": "24ee78d9-ecb0-438f-b20b-130c99e8998e"
      },
      "execution_count": 67,
      "outputs": [
        {
          "output_type": "execute_result",
          "data": {
            "text/plain": [
              "age_interval         age_decay_range\n",
              "Middle-agged Adults  30                 60.18%\n",
              "                     40                 39.82%\n",
              "Old Adults           60                 34.78%\n",
              "                     50                 34.24%\n",
              "                     70                 17.16%\n",
              "                     40                 13.81%\n",
              "Young Adults         20                 77.01%\n",
              "                     10                 15.29%\n",
              "                     30                   7.7%\n",
              "Name: proportion, dtype: object"
            ],
            "text/html": [
              "<div>\n",
              "<style scoped>\n",
              "    .dataframe tbody tr th:only-of-type {\n",
              "        vertical-align: middle;\n",
              "    }\n",
              "\n",
              "    .dataframe tbody tr th {\n",
              "        vertical-align: top;\n",
              "    }\n",
              "\n",
              "    .dataframe thead th {\n",
              "        text-align: right;\n",
              "    }\n",
              "</style>\n",
              "<table border=\"1\" class=\"dataframe\">\n",
              "  <thead>\n",
              "    <tr style=\"text-align: right;\">\n",
              "      <th></th>\n",
              "      <th></th>\n",
              "      <th>proportion</th>\n",
              "    </tr>\n",
              "    <tr>\n",
              "      <th>age_interval</th>\n",
              "      <th>age_decay_range</th>\n",
              "      <th></th>\n",
              "    </tr>\n",
              "  </thead>\n",
              "  <tbody>\n",
              "    <tr>\n",
              "      <th rowspan=\"2\" valign=\"top\">Middle-agged Adults</th>\n",
              "      <th>30</th>\n",
              "      <td>60.18%</td>\n",
              "    </tr>\n",
              "    <tr>\n",
              "      <th>40</th>\n",
              "      <td>39.82%</td>\n",
              "    </tr>\n",
              "    <tr>\n",
              "      <th rowspan=\"4\" valign=\"top\">Old Adults</th>\n",
              "      <th>60</th>\n",
              "      <td>34.78%</td>\n",
              "    </tr>\n",
              "    <tr>\n",
              "      <th>50</th>\n",
              "      <td>34.24%</td>\n",
              "    </tr>\n",
              "    <tr>\n",
              "      <th>70</th>\n",
              "      <td>17.16%</td>\n",
              "    </tr>\n",
              "    <tr>\n",
              "      <th>40</th>\n",
              "      <td>13.81%</td>\n",
              "    </tr>\n",
              "    <tr>\n",
              "      <th rowspan=\"3\" valign=\"top\">Young Adults</th>\n",
              "      <th>20</th>\n",
              "      <td>77.01%</td>\n",
              "    </tr>\n",
              "    <tr>\n",
              "      <th>10</th>\n",
              "      <td>15.29%</td>\n",
              "    </tr>\n",
              "    <tr>\n",
              "      <th>30</th>\n",
              "      <td>7.7%</td>\n",
              "    </tr>\n",
              "  </tbody>\n",
              "</table>\n",
              "</div><br><label><b>dtype:</b> object</label>"
            ]
          },
          "metadata": {},
          "execution_count": 67
        }
      ]
    },
    {
      "cell_type": "markdown",
      "source": [
        "* The age decay range that involved in one age interval only has a big chance to be the dominant group in age interval (like 20's in Young Adults and 30's in Middle-aged Adults).\n",
        "\n",
        "__________________________________"
      ],
      "metadata": {
        "id": "9odPLAVO178w"
      }
    },
    {
      "cell_type": "markdown",
      "source": [
        "## **Data Visulization**"
      ],
      "metadata": {
        "id": "iJeVs3h439Ix"
      }
    },
    {
      "cell_type": "code",
      "source": [
        "plt.pie(data[\"age_interval\"].groupby(data[\"gender\"]).value_counts(normalize=True).mul(100).round(2),labels=data[\"age_interval\"].groupby(data[\"gender\"]).value_counts(normalize=True).mul(100).round(2).index,autopct='%1.1f%%')"
      ],
      "metadata": {
        "colab": {
          "base_uri": "https://localhost:8080/",
          "height": 718
        },
        "id": "W74453DV0dmi",
        "outputId": "a61961da-b416-41d6-d850-c8d51cc0d707"
      },
      "execution_count": 68,
      "outputs": [
        {
          "output_type": "execute_result",
          "data": {
            "text/plain": [
              "([<matplotlib.patches.Wedge at 0x7c60fc156610>,\n",
              "  <matplotlib.patches.Wedge at 0x7c60fc1579d0>,\n",
              "  <matplotlib.patches.Wedge at 0x7c60fc1439d0>,\n",
              "  <matplotlib.patches.Wedge at 0x7c60fc164bd0>,\n",
              "  <matplotlib.patches.Wedge at 0x7c60fc170090>,\n",
              "  <matplotlib.patches.Wedge at 0x7c60fc171c90>],\n",
              " [Text(0.762552500310987, 0.7927885495322586, \"('F', 'Old Adults')\"),\n",
              "  Text(-0.47699432535578795, 0.9911994822327022, \"('F', 'Middle-agged Adults')\"),\n",
              "  Text(-1.0308765135564548, 0.3837885013880541, \"('F', 'Young Adults')\"),\n",
              "  Text(-0.7645422920972708, -0.7908698272121978, \"('M', 'Old Adults')\"),\n",
              "  Text(0.4748134412868625, -0.9922460360078681, \"('M', 'Middle-agged Adults')\"),\n",
              "  Text(1.0309970962250279, -0.3834644541226225, \"('M', 'Young Adults')\")],\n",
              " [Text(0.41593772744235646, 0.43243011792668645, '25.6%'),\n",
              "  Text(-0.26017872292133887, 0.5406542630360193, '13.0%'),\n",
              "  Text(-0.5622962801217026, 0.20933918257530224, '11.3%'),\n",
              "  Text(-0.41702306841669307, -0.4313835421157442, '25.5%'),\n",
              "  Text(0.25898914979283405, -0.5412251105497462, '13.1%'),\n",
              "  Text(0.5623620524863788, -0.2091624295214304, '11.3%')])"
            ]
          },
          "metadata": {},
          "execution_count": 68
        },
        {
          "output_type": "display_data",
          "data": {
            "text/plain": [
              "<Figure size 640x480 with 1 Axes>"
            ],
            "image/png": "[encoded data removed]"
          },
          "metadata": {}
        }
      ]
    },
    {
      "cell_type": "markdown",
      "source": [
        "There is __uniform distribution__ of gender in age interval.\n",
        "_________________________________"
      ],
      "metadata": {
        "id": "tgRBWXckGih4"
      }
    },
    {
      "cell_type": "code",
      "source": [
        "data['single or not'].unique()"
      ],
      "metadata": {
        "colab": {
          "base_uri": "https://localhost:8080/"
        },
        "id": "XQbCMDJS81Ya",
        "outputId": "c274b6e3-65dd-4c22-b5d9-6b6ce4270ed1"
      },
      "execution_count": 69,
      "outputs": [
        {
          "output_type": "execute_result",
          "data": {
            "text/plain": [
              "array(['Not single', 'Single'], dtype=object)"
            ]
          },
          "metadata": {},
          "execution_count": 69
        }
      ]
    },
    {
      "cell_type": "code",
      "source": [
        "plt.figure(figsize=(10, 6))\n",
        "sns.countplot(x='age_interval', hue='telecom_partner', data=data)\n",
        "plt.title('telecom distribution')\n",
        "plt.xlabel('age interval')\n",
        "plt.ylabel('Count')\n",
        "plt.show()"
      ],
      "metadata": {
        "colab": {
          "base_uri": "https://localhost:8080/",
          "height": 564
        },
        "id": "453fgO_Y2VoF",
        "outputId": "cff485ef-6577-4007-984d-8a2789753f8b"
      },
      "execution_count": 70,
      "outputs": [
        {
          "output_type": "display_data",
          "data": {
            "text/plain": [
              "<Figure size 1000x600 with 1 Axes>"
            ],
            "image/png": "[encoded data removed]"
          },
          "metadata": {}
        }
      ]
    },
    {
      "cell_type": "markdown",
      "source": [
        "There is __uniform distribution__ of telecom partner in age interval.\n",
        "________________________________________"
      ],
      "metadata": {
        "id": "x1-jFHjCGUrN"
      }
    },
    {
      "cell_type": "code",
      "source": [
        "data.groupby(['age_interval'])['estimated_salary'].mean().plot()\n"
      ],
      "metadata": {
        "colab": {
          "base_uri": "https://localhost:8080/",
          "height": 467
        },
        "id": "kK6Dd1Qf-Co0",
        "outputId": "6ac11000-8c1b-4065-e3dd-71fd6fa39155"
      },
      "execution_count": 103,
      "outputs": [
        {
          "output_type": "execute_result",
          "data": {
            "text/plain": [
              "<Axes: xlabel='age_interval'>"
            ]
          },
          "metadata": {},
          "execution_count": 103
        },
        {
          "output_type": "display_data",
          "data": {
            "text/plain": [
              "<Figure size 640x480 with 1 Axes>"
            ],
            "image/png": "[encoded data removed]"
          },
          "metadata": {}
        }
      ]
    },
    {
      "cell_type": "markdown",
      "source": [
        "* Old Adults is the __least group__ has average estimated salary.\n",
        "* Young Adults is the __most group__ has average estimated salary.\n",
        "__________________"
      ],
      "metadata": {
        "id": "wPpu6sxyRlS8"
      }
    },
    {
      "cell_type": "code",
      "source": [
        "data.groupby(['age_decay_range'])['estimated_salary'].mean().plot()"
      ],
      "metadata": {
        "colab": {
          "base_uri": "https://localhost:8080/",
          "height": 467
        },
        "id": "cfjblm4YRayo",
        "outputId": "914c255b-9173-40b0-f2f1-428a97784a79"
      },
      "execution_count": 104,
      "outputs": [
        {
          "output_type": "execute_result",
          "data": {
            "text/plain": [
              "<Axes: xlabel='age_decay_range'>"
            ]
          },
          "metadata": {},
          "execution_count": 104
        },
        {
          "output_type": "display_data",
          "data": {
            "text/plain": [
              "<Figure size 640x480 with 1 Axes>"
            ],
            "image/png": "[encoded data removed]"
          },
          "metadata": {}
        }
      ]
    },
    {
      "cell_type": "markdown",
      "source": [
        "* 70's is the __least group__ has average estimated salary. This group in __Old Adults interval__.\n",
        "* 30's is the __most group__ has average estimated salary. This group in __Middle aged Adults interval__.\n",
        "__________________"
      ],
      "metadata": {
        "id": "Rnn7Oou-SGzz"
      }
    },
    {
      "cell_type": "code",
      "source": [
        "sns.lineplot(data=data, x='registration_year', y='age')"
      ],
      "metadata": {
        "colab": {
          "base_uri": "https://localhost:8080/",
          "height": 467
        },
        "id": "EfCqJhvKDzPy",
        "outputId": "33707319-2a05-461d-f9ae-1162bc83f9c6"
      },
      "execution_count": 79,
      "outputs": [
        {
          "output_type": "execute_result",
          "data": {
            "text/plain": [
              "<Axes: xlabel='registration_year', ylabel='age'>"
            ]
          },
          "metadata": {},
          "execution_count": 79
        },
        {
          "output_type": "display_data",
          "data": {
            "text/plain": [
              "<Figure size 640x480 with 1 Axes>"
            ],
            "image/png": "[encoded data removed]"
          },
          "metadata": {}
        }
      ]
    },
    {
      "cell_type": "markdown",
      "source": [
        "2022 is the __least year__ has average age.\n",
        "_______________________________"
      ],
      "metadata": {
        "id": "U-tDOVHpEGHF"
      }
    },
    {
      "cell_type": "code",
      "source": [
        "sns.lineplot(data=data, x='registration_month', y='age')"
      ],
      "metadata": {
        "colab": {
          "base_uri": "https://localhost:8080/",
          "height": 467
        },
        "id": "iMypAa5LCF_q",
        "outputId": "acb66ec7-9177-4cd3-bad1-f9e792aa60db"
      },
      "execution_count": 78,
      "outputs": [
        {
          "output_type": "execute_result",
          "data": {
            "text/plain": [
              "<Axes: xlabel='registration_month', ylabel='age'>"
            ]
          },
          "metadata": {},
          "execution_count": 78
        },
        {
          "output_type": "display_data",
          "data": {
            "text/plain": [
              "<Figure size 640x480 with 1 Axes>"
            ],
            "image/png": "[encoded data removed]"
          },
          "metadata": {}
        }
      ]
    },
    {
      "cell_type": "markdown",
      "source": [
        "* October is the __most month__ has average age.\n",
        "* July is the __least month__ has average age.\n",
        "_______________________________"
      ],
      "metadata": {
        "id": "Z6i5K2bBEgdN"
      }
    },
    {
      "cell_type": "code",
      "source": [
        "sns.lineplot(data=data, x='registration_day', y='age')"
      ],
      "metadata": {
        "colab": {
          "base_uri": "https://localhost:8080/",
          "height": 467
        },
        "id": "Xk-SyTa-EvSf",
        "outputId": "4d6d472d-560f-43d1-a4be-55a81f47e11d"
      },
      "execution_count": 80,
      "outputs": [
        {
          "output_type": "execute_result",
          "data": {
            "text/plain": [
              "<Axes: xlabel='registration_day', ylabel='age'>"
            ]
          },
          "metadata": {},
          "execution_count": 80
        },
        {
          "output_type": "display_data",
          "data": {
            "text/plain": [
              "<Figure size 640x480 with 1 Axes>"
            ],
            "image/png": "[encoded data removed]"
          },
          "metadata": {}
        }
      ]
    },
    {
      "cell_type": "markdown",
      "source": [
        "* The begaining of each 10 days (like: day 2, 3, 11, 13, 22,30) is the __most day__ has average age.\n",
        "* day 14 is the __least day__ has average age.\n",
        "_______________________________"
      ],
      "metadata": {
        "id": "Gyxmgs5rFMLt"
      }
    },
    {
      "cell_type": "code",
      "source": [
        "data.groupby(['age_interval'])['churn'].mean().plot()\n"
      ],
      "metadata": {
        "colab": {
          "base_uri": "https://localhost:8080/",
          "height": 467
        },
        "id": "XrAUENxWHzj8",
        "outputId": "7429349e-e34f-4332-ad75-bd2efe26c4b7"
      },
      "execution_count": 102,
      "outputs": [
        {
          "output_type": "execute_result",
          "data": {
            "text/plain": [
              "<Axes: xlabel='age_interval'>"
            ]
          },
          "metadata": {},
          "execution_count": 102
        },
        {
          "output_type": "display_data",
          "data": {
            "text/plain": [
              "<Figure size 640x480 with 1 Axes>"
            ],
            "image/png": "[encoded data removed]"
          },
          "metadata": {}
        }
      ]
    },
    {
      "cell_type": "markdown",
      "source": [
        "* Middle aged Adults is the __most group__ has average churn.\n",
        "* Young Adults is the __least group__ has average churn.\n",
        "__________________"
      ],
      "metadata": {
        "id": "-G5RxjpeS2nh"
      }
    },
    {
      "cell_type": "code",
      "source": [
        "data.groupby(['age_decay_range'])['churn'].mean().plot()"
      ],
      "metadata": {
        "colab": {
          "base_uri": "https://localhost:8080/",
          "height": 467
        },
        "id": "hpcCAb6xQgyw",
        "outputId": "143efc8c-7256-4c7b-cb2d-a50c07f16dfb"
      },
      "execution_count": 101,
      "outputs": [
        {
          "output_type": "execute_result",
          "data": {
            "text/plain": [
              "<Axes: xlabel='age_decay_range'>"
            ]
          },
          "metadata": {},
          "execution_count": 101
        },
        {
          "output_type": "display_data",
          "data": {
            "text/plain": [
              "<Figure size 640x480 with 1 Axes>"
            ],
            "image/png": "[encoded data removed]"
          },
          "metadata": {}
        }
      ]
    },
    {
      "cell_type": "markdown",
      "source": [
        "* 10's is the __least group__ has average churn. This group in __Young Adults interval__.\n",
        "* 30's is the __most group__ has average churn. This group in __Middle aged Adults interval__.\n",
        "__________________"
      ],
      "metadata": {
        "id": "1a73WRuKTHzc"
      }
    }
  ]
}