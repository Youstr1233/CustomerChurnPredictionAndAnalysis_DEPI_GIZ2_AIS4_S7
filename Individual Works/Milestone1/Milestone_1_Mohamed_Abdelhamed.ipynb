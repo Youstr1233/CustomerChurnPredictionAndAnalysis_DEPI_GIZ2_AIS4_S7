{
  "nbformat": 4,
  "nbformat_minor": 0,
  "metadata": {
    "colab": {
      "provenance": []
    },
    "kernelspec": {
      "name": "python3",
      "display_name": "Python 3"
    },
    "language_info": {
      "name": "python"
    }
  },
  "cells": [
    {
      "source": [
        "## Data loading\n",
        "\n",
        "### Subtask:\n",
        "Load the telecom churn dataset.\n"
      ],
      "cell_type": "markdown",
      "metadata": {
        "id": "g4Se9s2Onu2-"
      }
    },
    {
      "source": [
        "import pandas as pd\n",
        "\n",
        "df = pd.read_csv('telecom_churn.csv')\n",
        "display(df.head())"
      ],
      "cell_type": "code",
      "metadata": {
        "colab": {
          "base_uri": "https://localhost:8080/",
          "height": 206
        },
        "id": "QK_63RNbnv1d",
        "outputId": "ab396724-4675-4c4e-88df-703e30d57136"
      },
      "execution_count": null,
      "outputs": [
        {
          "output_type": "display_data",
          "data": {
            "text/plain": [
              "   customer_id telecom_partner gender  age              state     city  \\\n",
              "0            1    Reliance Jio      F   25          Karnataka  Kolkata   \n",
              "1            2    Reliance Jio      F   55            Mizoram   Mumbai   \n",
              "2            3        Vodafone      F   57  Arunachal Pradesh    Delhi   \n",
              "3            4            BSNL      M   46         Tamil Nadu  Kolkata   \n",
              "4            5            BSNL      F   26            Tripura    Delhi   \n",
              "\n",
              "   pincode date_of_registration  num_dependents  estimated_salary  calls_made  \\\n",
              "0   755597           2020-01-01             4.0          124962.0        44.0   \n",
              "1   125926           2020-01-01             2.0          130556.0        62.0   \n",
              "2   423976           2020-01-01             0.0          148828.0        49.0   \n",
              "3   522841           2020-01-01             1.0           38722.0        80.0   \n",
              "4   740247           2020-01-01             2.0           55098.0        78.0   \n",
              "\n",
              "   sms_sent  data_used  churn  \n",
              "0      45.0     -361.0    0.0  \n",
              "1      39.0     5973.0    0.0  \n",
              "2      24.0      193.0    1.0  \n",
              "3      25.0     9377.0    1.0  \n",
              "4      15.0     1393.0    0.0  "
            ],
            "text/html": [
              "\n",
              "  <div id=\"df-37a26856-1f4c-4849-8acb-2e7668260735\" class=\"colab-df-container\">\n",
              "    <div>\n",
              "<style scoped>\n",
              "    .dataframe tbody tr th:only-of-type {\n",
              "        vertical-align: middle;\n",
              "    }\n",
              "\n",
              "    .dataframe tbody tr th {\n",
              "        vertical-align: top;\n",
              "    }\n",
              "\n",
              "    .dataframe thead th {\n",
              "        text-align: right;\n",
              "    }\n",
              "</style>\n",
              "<table border=\"1\" class=\"dataframe\">\n",
              "  <thead>\n",
              "    <tr style=\"text-align: right;\">\n",
              "      <th></th>\n",
              "      <th>customer_id</th>\n",
              "      <th>telecom_partner</th>\n",
              "      <th>gender</th>\n",
              "      <th>age</th>\n",
              "      <th>state</th>\n",
              "      <th>city</th>\n",
              "      <th>pincode</th>\n",
              "      <th>date_of_registration</th>\n",
              "      <th>num_dependents</th>\n",
              "      <th>estimated_salary</th>\n",
              "      <th>calls_made</th>\n",
              "      <th>sms_sent</th>\n",
              "      <th>data_used</th>\n",
              "      <th>churn</th>\n",
              "    </tr>\n",
              "  </thead>\n",
              "  <tbody>\n",
              "    <tr>\n",
              "      <th>0</th>\n",
              "      <td>1</td>\n",
              "      <td>Reliance Jio</td>\n",
              "      <td>F</td>\n",
              "      <td>25</td>\n",
              "      <td>Karnataka</td>\n",
              "      <td>Kolkata</td>\n",
              "      <td>755597</td>\n",
              "      <td>2020-01-01</td>\n",
              "      <td>4.0</td>\n",
              "      <td>124962.0</td>\n",
              "      <td>44.0</td>\n",
              "      <td>45.0</td>\n",
              "      <td>-361.0</td>\n",
              "      <td>0.0</td>\n",
              "    </tr>\n",
              "    <tr>\n",
              "      <th>1</th>\n",
              "      <td>2</td>\n",
              "      <td>Reliance Jio</td>\n",
              "      <td>F</td>\n",
              "      <td>55</td>\n",
              "      <td>Mizoram</td>\n",
              "      <td>Mumbai</td>\n",
              "      <td>125926</td>\n",
              "      <td>2020-01-01</td>\n",
              "      <td>2.0</td>\n",
              "      <td>130556.0</td>\n",
              "      <td>62.0</td>\n",
              "      <td>39.0</td>\n",
              "      <td>5973.0</td>\n",
              "      <td>0.0</td>\n",
              "    </tr>\n",
              "    <tr>\n",
              "      <th>2</th>\n",
              "      <td>3</td>\n",
              "      <td>Vodafone</td>\n",
              "      <td>F</td>\n",
              "      <td>57</td>\n",
              "      <td>Arunachal Pradesh</td>\n",
              "      <td>Delhi</td>\n",
              "      <td>423976</td>\n",
              "      <td>2020-01-01</td>\n",
              "      <td>0.0</td>\n",
              "      <td>148828.0</td>\n",
              "      <td>49.0</td>\n",
              "      <td>24.0</td>\n",
              "      <td>193.0</td>\n",
              "      <td>1.0</td>\n",
              "    </tr>\n",
              "    <tr>\n",
              "      <th>3</th>\n",
              "      <td>4</td>\n",
              "      <td>BSNL</td>\n",
              "      <td>M</td>\n",
              "      <td>46</td>\n",
              "      <td>Tamil Nadu</td>\n",
              "      <td>Kolkata</td>\n",
              "      <td>522841</td>\n",
              "      <td>2020-01-01</td>\n",
              "      <td>1.0</td>\n",
              "      <td>38722.0</td>\n",
              "      <td>80.0</td>\n",
              "      <td>25.0</td>\n",
              "      <td>9377.0</td>\n",
              "      <td>1.0</td>\n",
              "    </tr>\n",
              "    <tr>\n",
              "      <th>4</th>\n",
              "      <td>5</td>\n",
              "      <td>BSNL</td>\n",
              "      <td>F</td>\n",
              "      <td>26</td>\n",
              "      <td>Tripura</td>\n",
              "      <td>Delhi</td>\n",
              "      <td>740247</td>\n",
              "      <td>2020-01-01</td>\n",
              "      <td>2.0</td>\n",
              "      <td>55098.0</td>\n",
              "      <td>78.0</td>\n",
              "      <td>15.0</td>\n",
              "      <td>1393.0</td>\n",
              "      <td>0.0</td>\n",
              "    </tr>\n",
              "  </tbody>\n",
              "</table>\n",
              "</div>\n",
              "    <div class=\"colab-df-buttons\">\n",
              "\n",
              "  <div class=\"colab-df-container\">\n",
              "    <button class=\"colab-df-convert\" onclick=\"convertToInteractive('df-37a26856-1f4c-4849-8acb-2e7668260735')\"\n",
              "            title=\"Convert this dataframe to an interactive table.\"\n",
              "            style=\"display:none;\">\n",
              "\n",
              "  <svg xmlns=\"http://www.w3.org/2000/svg\" height=\"24px\" viewBox=\"0 -960 960 960\">\n",
              "    <path d=\"M120-120v-720h720v720H120Zm60-500h600v-160H180v160Zm220 220h160v-160H400v160Zm0 220h160v-160H400v160ZM180-400h160v-160H180v160Zm440 0h160v-160H620v160ZM180-180h160v-160H180v160Zm440 0h160v-160H620v160Z\"/>\n",
              "  </svg>\n",
              "    </button>\n",
              "\n",
              "  <style>\n",
              "    .colab-df-container {\n",
              "      display:flex;\n",
              "      gap: 12px;\n",
              "    }\n",
              "\n",
              "    .colab-df-convert {\n",
              "      background-color: #E8F0FE;\n",
              "      border: none;\n",
              "      border-radius: 50%;\n",
              "      cursor: pointer;\n",
              "      display: none;\n",
              "      fill: #1967D2;\n",
              "      height: 32px;\n",
              "      padding: 0 0 0 0;\n",
              "      width: 32px;\n",
              "    }\n",
              "\n",
              "    .colab-df-convert:hover {\n",
              "      background-color: #E2EBFA;\n",
              "      box-shadow: 0px 1px 2px rgba(60, 64, 67, 0.3), 0px 1px 3px 1px rgba(60, 64, 67, 0.15);\n",
              "      fill: #174EA6;\n",
              "    }\n",
              "\n",
              "    .colab-df-buttons div {\n",
              "      margin-bottom: 4px;\n",
              "    }\n",
              "\n",
              "    [theme=dark] .colab-df-convert {\n",
              "      background-color: #3B4455;\n",
              "      fill: #D2E3FC;\n",
              "    }\n",
              "\n",
              "    [theme=dark] .colab-df-convert:hover {\n",
              "      background-color: #434B5C;\n",
              "      box-shadow: 0px 1px 3px 1px rgba(0, 0, 0, 0.15);\n",
              "      filter: drop-shadow(0px 1px 2px rgba(0, 0, 0, 0.3));\n",
              "      fill: #FFFFFF;\n",
              "    }\n",
              "  </style>\n",
              "\n",
              "    <script>\n",
              "      const buttonEl =\n",
              "        document.querySelector('#df-37a26856-1f4c-4849-8acb-2e7668260735 button.colab-df-convert');\n",
              "      buttonEl.style.display =\n",
              "        google.colab.kernel.accessAllowed ? 'block' : 'none';\n",
              "\n",
              "      async function convertToInteractive(key) {\n",
              "        const element = document.querySelector('#df-37a26856-1f4c-4849-8acb-2e7668260735');\n",
              "        const dataTable =\n",
              "          await google.colab.kernel.invokeFunction('convertToInteractive',\n",
              "                                                    [key], {});\n",
              "        if (!dataTable) return;\n",
              "\n",
              "        const docLinkHtml = 'Like what you see? Visit the ' +\n",
              "          '<a target=\"_blank\" href=https://colab.research.google.com/notebooks/data_table.ipynb>data table notebook</a>'\n",
              "          + ' to learn more about interactive tables.';\n",
              "        element.innerHTML = '';\n",
              "        dataTable['output_type'] = 'display_data';\n",
              "        await google.colab.output.renderOutput(dataTable, element);\n",
              "        const docLink = document.createElement('div');\n",
              "        docLink.innerHTML = docLinkHtml;\n",
              "        element.appendChild(docLink);\n",
              "      }\n",
              "    </script>\n",
              "  </div>\n",
              "\n",
              "\n",
              "<div id=\"df-950ba89f-b373-4ba9-ab68-3b657ba896da\">\n",
              "  <button class=\"colab-df-quickchart\" onclick=\"quickchart('df-950ba89f-b373-4ba9-ab68-3b657ba896da')\"\n",
              "            title=\"Suggest charts\"\n",
              "            style=\"display:none;\">\n",
              "\n",
              "<svg xmlns=\"http://www.w3.org/2000/svg\" height=\"24px\"viewBox=\"0 0 24 24\"\n",
              "     width=\"24px\">\n",
              "    <g>\n",
              "        <path d=\"M19 3H5c-1.1 0-2 .9-2 2v14c0 1.1.9 2 2 2h14c1.1 0 2-.9 2-2V5c0-1.1-.9-2-2-2zM9 17H7v-7h2v7zm4 0h-2V7h2v10zm4 0h-2v-4h2v4z\"/>\n",
              "    </g>\n",
              "</svg>\n",
              "  </button>\n",
              "\n",
              "<style>\n",
              "  .colab-df-quickchart {\n",
              "      --bg-color: #E8F0FE;\n",
              "      --fill-color: #1967D2;\n",
              "      --hover-bg-color: #E2EBFA;\n",
              "      --hover-fill-color: #174EA6;\n",
              "      --disabled-fill-color: #AAA;\n",
              "      --disabled-bg-color: #DDD;\n",
              "  }\n",
              "\n",
              "  [theme=dark] .colab-df-quickchart {\n",
              "      --bg-color: #3B4455;\n",
              "      --fill-color: #D2E3FC;\n",
              "      --hover-bg-color: #434B5C;\n",
              "      --hover-fill-color: #FFFFFF;\n",
              "      --disabled-bg-color: #3B4455;\n",
              "      --disabled-fill-color: #666;\n",
              "  }\n",
              "\n",
              "  .colab-df-quickchart {\n",
              "    background-color: var(--bg-color);\n",
              "    border: none;\n",
              "    border-radius: 50%;\n",
              "    cursor: pointer;\n",
              "    display: none;\n",
              "    fill: var(--fill-color);\n",
              "    height: 32px;\n",
              "    padding: 0;\n",
              "    width: 32px;\n",
              "  }\n",
              "\n",
              "  .colab-df-quickchart:hover {\n",
              "    background-color: var(--hover-bg-color);\n",
              "    box-shadow: 0 1px 2px rgba(60, 64, 67, 0.3), 0 1px 3px 1px rgba(60, 64, 67, 0.15);\n",
              "    fill: var(--button-hover-fill-color);\n",
              "  }\n",
              "\n",
              "  .colab-df-quickchart-complete:disabled,\n",
              "  .colab-df-quickchart-complete:disabled:hover {\n",
              "    background-color: var(--disabled-bg-color);\n",
              "    fill: var(--disabled-fill-color);\n",
              "    box-shadow: none;\n",
              "  }\n",
              "\n",
              "  .colab-df-spinner {\n",
              "    border: 2px solid var(--fill-color);\n",
              "    border-color: transparent;\n",
              "    border-bottom-color: var(--fill-color);\n",
              "    animation:\n",
              "      spin 1s steps(1) infinite;\n",
              "  }\n",
              "\n",
              "  @keyframes spin {\n",
              "    0% {\n",
              "      border-color: transparent;\n",
              "      border-bottom-color: var(--fill-color);\n",
              "      border-left-color: var(--fill-color);\n",
              "    }\n",
              "    20% {\n",
              "      border-color: transparent;\n",
              "      border-left-color: var(--fill-color);\n",
              "      border-top-color: var(--fill-color);\n",
              "    }\n",
              "    30% {\n",
              "      border-color: transparent;\n",
              "      border-left-color: var(--fill-color);\n",
              "      border-top-color: var(--fill-color);\n",
              "      border-right-color: var(--fill-color);\n",
              "    }\n",
              "    40% {\n",
              "      border-color: transparent;\n",
              "      border-right-color: var(--fill-color);\n",
              "      border-top-color: var(--fill-color);\n",
              "    }\n",
              "    60% {\n",
              "      border-color: transparent;\n",
              "      border-right-color: var(--fill-color);\n",
              "    }\n",
              "    80% {\n",
              "      border-color: transparent;\n",
              "      border-right-color: var(--fill-color);\n",
              "      border-bottom-color: var(--fill-color);\n",
              "    }\n",
              "    90% {\n",
              "      border-color: transparent;\n",
              "      border-bottom-color: var(--fill-color);\n",
              "    }\n",
              "  }\n",
              "</style>\n",
              "\n",
              "  <script>\n",
              "    async function quickchart(key) {\n",
              "      const quickchartButtonEl =\n",
              "        document.querySelector('#' + key + ' button');\n",
              "      quickchartButtonEl.disabled = true;  // To prevent multiple clicks.\n",
              "      quickchartButtonEl.classList.add('colab-df-spinner');\n",
              "      try {\n",
              "        const charts = await google.colab.kernel.invokeFunction(\n",
              "            'suggestCharts', [key], {});\n",
              "      } catch (error) {\n",
              "        console.error('Error during call to suggestCharts:', error);\n",
              "      }\n",
              "      quickchartButtonEl.classList.remove('colab-df-spinner');\n",
              "      quickchartButtonEl.classList.add('colab-df-quickchart-complete');\n",
              "    }\n",
              "    (() => {\n",
              "      let quickchartButtonEl =\n",
              "        document.querySelector('#df-950ba89f-b373-4ba9-ab68-3b657ba896da button');\n",
              "      quickchartButtonEl.style.display =\n",
              "        google.colab.kernel.accessAllowed ? 'block' : 'none';\n",
              "    })();\n",
              "  </script>\n",
              "</div>\n",
              "\n",
              "    </div>\n",
              "  </div>\n"
            ],
            "application/vnd.google.colaboratory.intrinsic+json": {
              "type": "dataframe",
              "summary": "{\n  \"name\": \"display(df\",\n  \"rows\": 5,\n  \"fields\": [\n    {\n      \"column\": \"customer_id\",\n      \"properties\": {\n        \"dtype\": \"number\",\n        \"std\": 1,\n        \"min\": 1,\n        \"max\": 5,\n        \"num_unique_values\": 5,\n        \"samples\": [\n          2,\n          5,\n          3\n        ],\n        \"semantic_type\": \"\",\n        \"description\": \"\"\n      }\n    },\n    {\n      \"column\": \"telecom_partner\",\n      \"properties\": {\n        \"dtype\": \"string\",\n        \"num_unique_values\": 3,\n        \"samples\": [\n          \"Reliance Jio\",\n          \"Vodafone\",\n          \"BSNL\"\n        ],\n        \"semantic_type\": \"\",\n        \"description\": \"\"\n      }\n    },\n    {\n      \"column\": \"gender\",\n      \"properties\": {\n        \"dtype\": \"category\",\n        \"num_unique_values\": 2,\n        \"samples\": [\n          \"M\",\n          \"F\"\n        ],\n        \"semantic_type\": \"\",\n        \"description\": \"\"\n      }\n    },\n    {\n      \"column\": \"age\",\n      \"properties\": {\n        \"dtype\": \"number\",\n        \"std\": 15,\n        \"min\": 25,\n        \"max\": 57,\n        \"num_unique_values\": 5,\n        \"samples\": [\n          55,\n          26\n        ],\n        \"semantic_type\": \"\",\n        \"description\": \"\"\n      }\n    },\n    {\n      \"column\": \"state\",\n      \"properties\": {\n        \"dtype\": \"string\",\n        \"num_unique_values\": 5,\n        \"samples\": [\n          \"Mizoram\",\n          \"Tripura\"\n        ],\n        \"semantic_type\": \"\",\n        \"description\": \"\"\n      }\n    },\n    {\n      \"column\": \"city\",\n      \"properties\": {\n        \"dtype\": \"string\",\n        \"num_unique_values\": 3,\n        \"samples\": [\n          \"Kolkata\",\n          \"Mumbai\"\n        ],\n        \"semantic_type\": \"\",\n        \"description\": \"\"\n      }\n    },\n    {\n      \"column\": \"pincode\",\n      \"properties\": {\n        \"dtype\": \"number\",\n        \"std\": 259007,\n        \"min\": 125926,\n        \"max\": 755597,\n        \"num_unique_values\": 5,\n        \"samples\": [\n          125926,\n          740247\n        ],\n        \"semantic_type\": \"\",\n        \"description\": \"\"\n      }\n    },\n    {\n      \"column\": \"date_of_registration\",\n      \"properties\": {\n        \"dtype\": \"object\",\n        \"num_unique_values\": 1,\n        \"samples\": [\n          \"2020-01-01\"\n        ],\n        \"semantic_type\": \"\",\n        \"description\": \"\"\n      }\n    },\n    {\n      \"column\": \"num_dependents\",\n      \"properties\": {\n        \"dtype\": \"number\",\n        \"std\": 1.4832396974191326,\n        \"min\": 0.0,\n        \"max\": 4.0,\n        \"num_unique_values\": 4,\n        \"samples\": [\n          2.0\n        ],\n        \"semantic_type\": \"\",\n        \"description\": \"\"\n      }\n    },\n    {\n      \"column\": \"estimated_salary\",\n      \"properties\": {\n        \"dtype\": \"number\",\n        \"std\": 49273.35573309372,\n        \"min\": 38722.0,\n        \"max\": 148828.0,\n        \"num_unique_values\": 5,\n        \"samples\": [\n          130556.0\n        ],\n        \"semantic_type\": \"\",\n        \"description\": \"\"\n      }\n    },\n    {\n      \"column\": \"calls_made\",\n      \"properties\": {\n        \"dtype\": \"number\",\n        \"std\": 16.364595931461306,\n        \"min\": 44.0,\n        \"max\": 80.0,\n        \"num_unique_values\": 5,\n        \"samples\": [\n          62.0\n        ],\n        \"semantic_type\": \"\",\n        \"description\": \"\"\n      }\n    },\n    {\n      \"column\": \"sms_sent\",\n      \"properties\": {\n        \"dtype\": \"number\",\n        \"std\": 12.157302332343306,\n        \"min\": 15.0,\n        \"max\": 45.0,\n        \"num_unique_values\": 5,\n        \"samples\": [\n          39.0\n        ],\n        \"semantic_type\": \"\",\n        \"description\": \"\"\n      }\n    },\n    {\n      \"column\": \"data_used\",\n      \"properties\": {\n        \"dtype\": \"number\",\n        \"std\": 4206.148832364352,\n        \"min\": -361.0,\n        \"max\": 9377.0,\n        \"num_unique_values\": 5,\n        \"samples\": [\n          5973.0\n        ],\n        \"semantic_type\": \"\",\n        \"description\": \"\"\n      }\n    },\n    {\n      \"column\": \"churn\",\n      \"properties\": {\n        \"dtype\": \"number\",\n        \"std\": 0.5477225575051662,\n        \"min\": 0.0,\n        \"max\": 1.0,\n        \"num_unique_values\": 2,\n        \"samples\": [\n          1.0\n        ],\n        \"semantic_type\": \"\",\n        \"description\": \"\"\n      }\n    }\n  ]\n}"
            }
          },
          "metadata": {}
        }
      ]
    },
    {
      "source": [
        "## Data exploration\n",
        "\n",
        "### Subtask:\n",
        "Explore the \"pincode\" and \"num_dependents\" attributes.\n"
      ],
      "cell_type": "markdown",
      "metadata": {
        "id": "b6mb5j4ln0Gv"
      }
    },
    {
      "source": [
        "# Data Type and Missing Valuesؤء\n",
        "print(df[['pincode', 'num_dependents']].dtypes)\n",
        "print(df[['pincode', 'num_dependents']].isnull().sum())\n",
        "print(df['pincode'].unique())\n",
        "print(df['pincode'].value_counts())\n",
        "print(df['num_dependents'].describe())\n"
      ],
      "cell_type": "code",
      "metadata": {
        "colab": {
          "base_uri": "https://localhost:8080/"
        },
        "id": "REsp2nTKn09l",
        "outputId": "5c753bd3-6443-45f1-f514-9411d19f9f1c"
      },
      "execution_count": null,
      "outputs": [
        {
          "output_type": "stream",
          "name": "stdout",
          "text": [
            "pincode             int64\n",
            "num_dependents    float64\n",
            "dtype: object\n",
            "pincode           0\n",
            "num_dependents    1\n",
            "dtype: int64\n",
            "[755597 125926 423976 ... 245560 891528 517704]\n",
            "pincode\n",
            "304785    3\n",
            "818851    3\n",
            "957775    3\n",
            "446566    3\n",
            "202102    3\n",
            "         ..\n",
            "683189    1\n",
            "916170    1\n",
            "129866    1\n",
            "749916    1\n",
            "356397    1\n",
            "Name: count, Length: 27028, dtype: int64\n",
            "count    27436.000000\n",
            "mean         1.991362\n",
            "std          1.414947\n",
            "min          0.000000\n",
            "25%          1.000000\n",
            "50%          2.000000\n",
            "75%          3.000000\n",
            "max          4.000000\n",
            "Name: num_dependents, dtype: float64\n"
          ]
        }
      ]
    },
    {
      "source": [
        "**Reasoning**:\n",
        "Analyze the potential issues in \"pincode\" and \"num_dependents\" based on the insights obtained in the previous step.\n",
        "\n"
      ],
      "cell_type": "markdown",
      "metadata": {
        "id": "FziN52b_n2yu"
      }
    },
    {
      "source": [
        "# Potential Issues\n",
        "# Check for incorrect formats or unreasonable values in \"pincode\"\n",
        "# (Since pincode is treated as an integer, it's assumed that the format is correct.)\n",
        "# However, we can check if there are any unrealistic pincodes (e.g., negative values).\n",
        "print(df[df['pincode'] < 0])  # Check for negative pincodes\n",
        "\n",
        "# Check for negative or extremely large values in \"num_dependents\"\n",
        "print(df[df['num_dependents'] < 0])  # Check for negative num_dependents\n",
        "print(df[df['num_dependents'] > 10])  # Check for extremely large num_dependents"
      ],
      "cell_type": "code",
      "metadata": {
        "colab": {
          "base_uri": "https://localhost:8080/"
        },
        "id": "KSHNUR9Hn3KN",
        "outputId": "1184da50-b73f-49a4-ecee-c0980835ab89"
      },
      "execution_count": null,
      "outputs": [
        {
          "output_type": "stream",
          "name": "stdout",
          "text": [
            "Empty DataFrame\n",
            "Columns: [customer_id, telecom_partner, gender, age, state, city, pincode, date_of_registration, num_dependents, estimated_salary, calls_made, sms_sent, data_used, churn]\n",
            "Index: []\n",
            "Empty DataFrame\n",
            "Columns: [customer_id, telecom_partner, gender, age, state, city, pincode, date_of_registration, num_dependents, estimated_salary, calls_made, sms_sent, data_used, churn]\n",
            "Index: []\n",
            "Empty DataFrame\n",
            "Columns: [customer_id, telecom_partner, gender, age, state, city, pincode, date_of_registration, num_dependents, estimated_salary, calls_made, sms_sent, data_used, churn]\n",
            "Index: []\n"
          ]
        }
      ]
    },
    {
      "source": [
        "## Data cleaning\n",
        "\n",
        "### Subtask:\n",
        "Handle missing values in the \"pincode\" and \"num_dependents\" columns.\n"
      ],
      "cell_type": "markdown",
      "metadata": {
        "id": "q_vBZW58n6t7"
      }
    },
    {
      "source": [
        "# Check for missing values in 'pincode' and 'num_dependents'\n",
        "print(df[['pincode', 'num_dependents']].isnull().sum())\n",
        "\n",
        "# Impute missing values if any\n",
        "if df['pincode'].isnull().any():\n",
        "  df['pincode'] = df['pincode'].fillna(df['pincode'].mode()[0])  # Replace with mode\n",
        "\n",
        "if df['num_dependents'].isnull().any():\n",
        "  df['num_dependents'] = df['num_dependents'].fillna(df['num_dependents'].median())  # Replace with median\n",
        "\n",
        "# Verify no missing values remain\n",
        "print(df[['pincode', 'num_dependents']].isnull().sum())"
      ],
      "cell_type": "code",
      "metadata": {
        "colab": {
          "base_uri": "https://localhost:8080/"
        },
        "id": "GVEThMC4n8Cs",
        "outputId": "153652a8-fc1c-41b5-e37f-878c2cff0ae2"
      },
      "execution_count": null,
      "outputs": [
        {
          "output_type": "stream",
          "name": "stdout",
          "text": [
            "pincode           0\n",
            "num_dependents    0\n",
            "dtype: int64\n",
            "pincode           0\n",
            "num_dependents    0\n",
            "dtype: int64\n"
          ]
        }
      ]
    },
    {
      "source": [
        "## Data wrangling\n",
        "\n",
        "### Subtask:\n",
        "Wrangle the \"pincode\" and \"num_dependents\" columns to ensure they are in a suitable format for analysis.\n"
      ],
      "cell_type": "markdown",
      "metadata": {
        "id": "M9PU6catoATV"
      }
    },
    {
      "source": [
        "# Pincode Formatting\n",
        "df['pincode'] = df['pincode'].astype(str).str.strip()  # Remove leading/trailing spaces\n",
        "df['pincode'] = df['pincode'].str.replace(r'\\D', '', regex=True)  # Remove non-numeric characters\n",
        "df['pincode'] = pd.to_numeric(df['pincode'], errors='coerce')  # Convert to numeric, handle errors\n",
        "df['pincode'] = df['pincode'].fillna(-1).astype(int)  # Fill NaN with -1 and convert to int\n",
        "df['pincode'] = df['pincode'].apply(lambda x: x if 100000 <= x <= 999999 else -1)  # Ensure 6-digit range\n",
        "\n",
        "# Num_dependents Type Conversion\n",
        "df['num_dependents'] = pd.to_numeric(df['num_dependents'], errors='coerce')  # Convert to numeric\n",
        "df['num_dependents'] = df['num_dependents'].fillna(-1).astype(int)  # Fill NaN with -1 and convert to int\n",
        "df['num_dependents'] = df['num_dependents'].apply(lambda x: x if x >= 0 else -1)  # Handle negative values\n",
        "\n",
        "# Verify Changes\n",
        "print(df[['pincode', 'num_dependents']].dtypes)\n",
        "print(df[['pincode', 'num_dependents']].head())"
      ],
      "cell_type": "code",
      "metadata": {
        "colab": {
          "base_uri": "https://localhost:8080/"
        },
        "id": "YA0ND69LoB5t",
        "outputId": "64d67831-e229-4abf-d05d-1b94622c18ce"
      },
      "execution_count": null,
      "outputs": [
        {
          "output_type": "stream",
          "name": "stdout",
          "text": [
            "pincode           int64\n",
            "num_dependents    int64\n",
            "dtype: object\n",
            "   pincode  num_dependents\n",
            "0   755597               4\n",
            "1   125926               2\n",
            "2   423976               0\n",
            "3   522841               1\n",
            "4   740247               2\n"
          ]
        }
      ]
    },
    {
      "cell_type": "markdown",
      "source": [],
      "metadata": {
        "id": "EMSl90JLLaMT"
      }
    },
    {
      "cell_type": "code",
      "source": [],
      "metadata": {
        "id": "qC_tREYJHtij"
      },
      "execution_count": null,
      "outputs": []
    },
    {
      "cell_type": "code",
      "source": [
        " relation= df['num_dependents'].apply(lambda x: 'Single' if x == 0 else 'Married')\n",
        " print(relation)"
      ],
      "metadata": {
        "colab": {
          "base_uri": "https://localhost:8080/"
        },
        "id": "kePnx72kISzo",
        "outputId": "94fcec1f-e6fe-4680-8959-5773e1f58b72"
      },
      "execution_count": null,
      "outputs": [
        {
          "output_type": "stream",
          "name": "stdout",
          "text": [
            "0        Married\n",
            "1        Married\n",
            "2         Single\n",
            "3        Married\n",
            "4        Married\n",
            "          ...   \n",
            "27432    Married\n",
            "27433    Married\n",
            "27434     Single\n",
            "27435    Married\n",
            "27436    Married\n",
            "Name: num_dependents, Length: 27437, dtype: object\n"
          ]
        }
      ]
    },
    {
      "cell_type": "code",
      "source": [
        "df['relation'] = df['num_dependents'].apply(lambda x: 'Single' if x == 0 else 'Married')\n",
        "print(df['relation'].value_counts())"
      ],
      "metadata": {
        "colab": {
          "base_uri": "https://localhost:8080/"
        },
        "id": "YNbx_WU1KYUT",
        "outputId": "fd56eb0a-2bd8-4aa8-e38d-f21170507a7f"
      },
      "execution_count": null,
      "outputs": [
        {
          "output_type": "stream",
          "name": "stdout",
          "text": [
            "relation\n",
            "Married    21891\n",
            "Single      5546\n",
            "Name: count, dtype: int64\n"
          ]
        }
      ]
    },
    {
      "cell_type": "code",
      "source": [
        "  df.groupby('gender')['num_dependents'].value_counts().unstack().fillna(0)\n",
        "print(  df.groupby('gender')['num_dependents'].value_counts().unstack().fillna(0))"
      ],
      "metadata": {
        "colab": {
          "base_uri": "https://localhost:8080/"
        },
        "id": "SkevYDiIIt6l",
        "outputId": "af837e2a-3507-4602-d1bc-2c17bc4adb7b"
      },
      "execution_count": null,
      "outputs": [
        {
          "output_type": "stream",
          "name": "stdout",
          "text": [
            "num_dependents   0.0   1.0   2.0   3.0   4.0\n",
            "gender                                      \n",
            "F               2200  2273  2282  2215  2189\n",
            "M               3346  3227  3198  3250  3256\n"
          ]
        }
      ]
    },
    {
      "cell_type": "code",
      "source": [
        "relation_table = df.groupby('relation')['calls_made'].value_counts().unstack().fillna(0)\n",
        "print(relation_table)"
      ],
      "metadata": {
        "id": "j9gJOG5DN3A4",
        "outputId": "402cffb2-8690-4173-fdea-54d6bd648fd9",
        "colab": {
          "base_uri": "https://localhost:8080/"
        }
      },
      "execution_count": null,
      "outputs": [
        {
          "output_type": "stream",
          "name": "stdout",
          "text": [
            "calls_made  -10.0   -9.0    -8.0    -7.0    -6.0    -5.0    -4.0    -3.0    \\\n",
            "relation                                                                     \n",
            "Married         19      22      31      40      56      66      76      92   \n",
            "Single           5       7       5      12      12      16      21      27   \n",
            "\n",
            "calls_made  -2.0    -1.0     0.0     1.0     2.0     3.0     4.0     5.0    \\\n",
            "relation                                                                     \n",
            "Married         91      97     116     134     152     152     188     184   \n",
            "Single          33      30      43      30      30      50      42      49   \n",
            "\n",
            "calls_made   6.0     7.0     8.0     9.0     10.0    11.0    12.0    13.0   \\\n",
            "relation                                                                     \n",
            "Married        195     189     198     210     206     212     243     226   \n",
            "Single          42      54      55      54      67      52      53      50   \n",
            "\n",
            "calls_made   14.0    15.0    16.0    17.0    18.0    19.0    20.0    21.0   \\\n",
            "relation                                                                     \n",
            "Married        243     178     226     194     203     240     221     193   \n",
            "Single          58      65      49      63      55      59      64      55   \n",
            "\n",
            "calls_made   22.0    23.0    24.0    25.0    26.0    27.0    28.0    29.0   \\\n",
            "relation                                                                     \n",
            "Married        206     241     223     215     214     206     197     217   \n",
            "Single          60      54      57      65      48      52      74      55   \n",
            "\n",
            "calls_made   30.0    31.0    32.0    33.0    34.0    35.0    36.0    37.0   \\\n",
            "relation                                                                     \n",
            "Married        210     232     240     226     218     241     206     206   \n",
            "Single          51      51      60      47      55      50      63      56   \n",
            "\n",
            "calls_made   38.0    39.0    40.0    41.0    42.0    43.0    44.0    45.0   \\\n",
            "relation                                                                     \n",
            "Married        233     214     205     198     247     236     199     207   \n",
            "Single          54      59      67      56      66      60      53      60   \n",
            "\n",
            "calls_made   46.0    47.0    48.0    49.0    50.0    51.0    52.0    53.0   \\\n",
            "relation                                                                     \n",
            "Married        195     227     206     248     262     204     204     229   \n",
            "Single          69      46      61      56      52      62      51      50   \n",
            "\n",
            "calls_made   54.0    55.0    56.0    57.0    58.0    59.0    60.0    61.0   \\\n",
            "relation                                                                     \n",
            "Married        217     234     218     209     225     222     253     204   \n",
            "Single          59      57      66      56      43      48      53      47   \n",
            "\n",
            "calls_made   62.0    63.0    64.0    65.0    66.0    67.0    68.0    69.0   \\\n",
            "relation                                                                     \n",
            "Married        207     229     196     207     240     227     218     231   \n",
            "Single          50      47      57      52      45      61      41      56   \n",
            "\n",
            "calls_made   70.0    71.0    72.0    73.0    74.0    75.0    76.0    77.0   \\\n",
            "relation                                                                     \n",
            "Married        214     215     215     240     232     194     235     211   \n",
            "Single          57      66      65      58      53      44      57      57   \n",
            "\n",
            "calls_made   78.0    79.0    80.0    81.0    82.0    83.0    84.0    85.0   \\\n",
            "relation                                                                     \n",
            "Married        240     227     208     229     198     255     219     218   \n",
            "Single          49      44      61      65      50      40      55      42   \n",
            "\n",
            "calls_made   86.0    87.0    88.0    89.0    90.0    91.0    92.0    93.0   \\\n",
            "relation                                                                     \n",
            "Married        228     202     196     219     217     198     195     180   \n",
            "Single          58      48      45      45      47      49      48      45   \n",
            "\n",
            "calls_made   94.0    95.0    96.0    97.0    98.0    99.0    100.0   101.0  \\\n",
            "relation                                                                     \n",
            "Married        153     149     134     140     108     114      74      87   \n",
            "Single          36      43      38      40      29      30      27      27   \n",
            "\n",
            "calls_made   102.0   103.0   104.0   105.0   106.0   107.0   108.0  \n",
            "relation                                                            \n",
            "Married         79      63      47      50      31      23      11  \n",
            "Single          12      10      17       8       7       8       1  \n"
          ]
        }
      ]
    }
  ]
}